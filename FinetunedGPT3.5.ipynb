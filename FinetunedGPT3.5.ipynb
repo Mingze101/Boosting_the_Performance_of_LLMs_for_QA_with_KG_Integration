{
 "cells": [
  {
   "cell_type": "markdown",
   "source": [
    "# Fine-tuned GPT 3.5 for Boosting the Performance of Large Language Models for Question Answering with Knowledge Graph Integration\n",
    "by Mingze Li\n",
    "\n",
    "In this file, we need to first process the fine-tuning dataset, then fine-tune the model and finally process the QA tasks with a given dataset contains quesions and contexts."
   ],
   "metadata": {
    "collapsed": false
   },
   "id": "6a9bc78b932bf8d"
  },
  {
   "cell_type": "code",
   "execution_count": 1,
   "id": "f3a4ccc04920f3da",
   "metadata": {
    "collapsed": false,
    "ExecuteTime": {
     "end_time": "2024-03-01T21:57:19.877060900Z",
     "start_time": "2024-03-01T21:57:19.777063Z"
    }
   },
   "outputs": [],
   "source": [
    "import tiktoken # for token counting\n",
    "import numpy as np\n",
    "import json\n",
    "from collections import defaultdict"
   ]
  },
  {
   "cell_type": "markdown",
   "source": [
    "## Data analysis for chat model fine-tuning\n",
    "We have generated the jsonl file for the fine-tuning and we must make sure the dataset can fit the model in the correct format.\n",
    "Those codes for Data Analysis are supported by Data preparation and analysis for chat model fine-tuning: https://cookbook.openai.com/examples/chat_finetuning_data_prep"
   ],
   "metadata": {
    "collapsed": false
   },
   "id": "4935f844ff5fcc47"
  },
  {
   "cell_type": "code",
   "execution_count": 2,
   "id": "421b0cc4d02cb0a6",
   "metadata": {
    "collapsed": false,
    "ExecuteTime": {
     "end_time": "2024-03-01T21:57:19.894064300Z",
     "start_time": "2024-03-01T21:57:19.880062700Z"
    }
   },
   "outputs": [
    {
     "name": "stdout",
     "output_type": "stream",
     "text": [
      "Num examples: 27\n",
      "First example:\n",
      "{'role': 'system', 'content': 'Prof. Stefan Diebels has expertise in Computational materials science; PD Dr.  Franz  Roters has expertise in Computational materials science; EQ2PC has discipline Computational materials science; Prof. Dr. Karsten  Durst has expertise in Computational Materials Science; Prof. Dr.-Ing. Stephan Wulfinghoff has expertise in Computational Materials Science; Christian Dorn has expertise in Computational Materials Science; Dr.-Ing Abril Azocar Guzman has expertise in Computational Materials Science; Prof. Dr.  Jörg Neugebauer has expertise in Computational Materials Science; pyscal_rdf has discipline Computational Materials Science; Elastic Constant Demo has discipline Computational Materials Science; Computational Material Sample Ontology has discipline Computational Materials Science; Elastic Constant Demo Data has discipline Computational Materials Science; TURBOMOLE has discipline Computational Material Science; Open Materials Database has description \"The Open Materials Database is a publicly available, searchable database for information on the properties of materials created by people who work in computational materials design research. \"; Materials Design Ontology (MDO) has related Project Open Databases Integration for Materials Design (OPTIMADE); Materials Design Ontology (MDO) has documentation w3id.org/mdo/full/1.0/; Materials Design Ontology (MDO) has description \"MDO is an ontology for materials design field, representing the domain knowledge specifically related to solid-state physics and computational materials science.\"; Pyiron YouTube channel has description \"Welcome to our youtube channel where we present pyiron - an integrated development environment for computational materials science. \"; PD Dr. habil.  Thomas Hammerschmidt has expertise in computational materials science; Dr Sarath Menon has expertise in computational materials science; Calphy has discipline computational materials science; Melting temperature computational workflow has discipline computational materials science; Pyscal has discipline computational materials science; MinimumEnergyPoints has discipline computational materials science; Image based prediction of the heat conduction tensor has discipline computational materials science; Finite Element Analysis Program has discipline computational materials science; Vienna Ab initio Simulation Package has discipline computational materials science; CAmbridge Serial Total Energy Package has discipline computational materials science; Carr Parrinello Molecular Dynamics has discipline computational materials science; ABINIT has discipline computational materials science; BigDFT has discipline computational materials science; Parallel total energy has discipline computational materials science; JDTFx has discipline computational materials science; PARSEC has discipline computational materials science; CP2K has discipline computational materials science; GPAW has discipline computational materials science; S/PHI/nX has discipline computational materials science; Qbox First-Principles Molecular Dynamics has discipline computational materials science; DFTK.jl has discipline computational materials science; density of Montréal has discipline computational materials science; SIESTA has discipline computational materials science; CRYSTAL has discipline computational materials science; FHI-AIMS has discipline computational materials science; FPLO has discipline computational materials science; Open source package for Material eXplorer has discipline computational materials science; Elk has discipline computational materials science; exciting has discipline computational materials science; FLEUR has discipline computational materials science; WIEN2k has discipline computational materials science; Large-scale Atomic/Molecular Massively Parallel Simulator has discipline computational materials science; The ITAP Molecular Dynamics Program has discipline computational materials science; GROMACS has discipline computational materials science; MD++ has discipline computational materials science; Thermo-Calc has discipline computational materials science; OpenPhase has discipline computational materials science; Multiphysics Object Oriented Simulation Environment has discipline computational materials science; Abaqus has discipline computational materials science; FeniCS Project has discipline computational materials science; Dusseldorf Advanced Material Simulation Kit has discipline computational materials science; Automated interactive infrastructure and database for computational science has discipline computational materials science; SimStack has discipline computational materials science; Atomic Simulation Environment has discipline computational materials science; Quantum Espresso has discipline computational materials science; Pyiron has discipline computational materials science'}\n",
      "{'role': 'user', 'content': 'Who is working in the Computational Materials Science field?'}\n",
      "{'role': 'assistant', 'content': 'Prof. Dr. Karsten Durst  Prof. Dr.-Ing. Stephan Wulfinghoff  Christian Dorn  Dr.-Ing Abril Azocar Guzman  Prof. Dr. Jörg Neugebauer  Prof. Stefan Diebels  PD Dr. Franz Roters  EQ2PC'}\n"
     ]
    }
   ],
   "source": [
    "data_path = r\"C:\\Users\\Li\\Desktop\\fine_tuning_database.jsonl\" \n",
    "\n",
    "# Load the dataset\n",
    "with open(data_path, 'r', encoding='utf-8') as f:\n",
    "    dataset = [json.loads(line) for line in f]\n",
    "\n",
    "# Initial dataset stats\n",
    "print(\"Num examples:\", len(dataset))\n",
    "print(\"First example:\")\n",
    "for message in dataset[0][\"messages\"]:\n",
    "    print(message)"
   ]
  },
  {
   "cell_type": "code",
   "execution_count": 3,
   "id": "b7bcab3e115275bd",
   "metadata": {
    "collapsed": false,
    "ExecuteTime": {
     "end_time": "2024-03-01T21:57:19.944073200Z",
     "start_time": "2024-03-01T21:57:19.894064300Z"
    }
   },
   "outputs": [
    {
     "name": "stdout",
     "output_type": "stream",
     "text": [
      "No errors found\n"
     ]
    }
   ],
   "source": [
    "# Format error checks\n",
    "format_errors = defaultdict(int)\n",
    "\n",
    "# Add a list to record the index of the wrong example\n",
    "missing_assistant_examples = []\n",
    "\n",
    "for i, ex in enumerate(dataset):\n",
    "    if not isinstance(ex, dict):\n",
    "        format_errors[\"data_type\"] += 1\n",
    "        continue\n",
    "        \n",
    "    messages = ex.get(\"messages\", None)\n",
    "    if not messages:\n",
    "        format_errors[\"missing_messages_list\"] += 1\n",
    "        continue\n",
    "        \n",
    "    for message in messages:\n",
    "        if \"role\" not in message or \"content\" not in message:\n",
    "            format_errors[\"message_missing_key\"] += 1\n",
    "            print(\"errin index:\", i)\n",
    "            print(\"message: \",message)\n",
    "        \n",
    "        if any(k not in (\"role\", \"content\", \"name\", \"function_call\") for k in message):\n",
    "            format_errors[\"message_unrecognized_key\"] += 1\n",
    "            print(\"errin index:\", i)\n",
    "            print(\"message: \",message)\n",
    "        \n",
    "        if message.get(\"role\", None) not in (\"system\", \"user\", \"assistant\", \"function\"):\n",
    "            format_errors[\"unrecognized_role\"] += 1\n",
    "            print(\"errin index:\", i)\n",
    "            print(\"message: \",message)\n",
    "            \n",
    "        content = message.get(\"content\", None)\n",
    "        function_call = message.get(\"function_call\", None)\n",
    "        \n",
    "        if (not content and not function_call) or not isinstance(content, str):\n",
    "            format_errors[\"missing_content\"] += 1\n",
    "            print(\"errin index:\", i)\n",
    "            print(\"message: \",messages)\n",
    "    \n",
    "    if not any(message.get(\"role\", None) == \"assistant\" for message in messages):\n",
    "        format_errors[\"example_missing_assistant_message\"] += 1\n",
    "        missing_assistant_examples.append(i)  # 记录发生错误的例子的索引\n",
    "        print(\"errin index:\", i)\n",
    "        \n",
    "\n",
    "if format_errors:\n",
    "    print(\"Found errors:\")\n",
    "    for k, v in format_errors.items():\n",
    "        print(f\"{k}: {v}\")\n",
    "    if missing_assistant_examples:\n",
    "        print(\"Missing assistant messages in examples:\", missing_assistant_examples)\n",
    "else:\n",
    "    print(\"No errors found\")"
   ]
  },
  {
   "cell_type": "code",
   "execution_count": 4,
   "id": "1c768488b4496626",
   "metadata": {
    "collapsed": false,
    "ExecuteTime": {
     "end_time": "2024-03-01T21:57:24.516463700Z",
     "start_time": "2024-03-01T21:57:24.262370900Z"
    }
   },
   "outputs": [],
   "source": [
    "encoding = tiktoken.get_encoding(\"cl100k_base\")\n",
    "\n",
    "# not exact!\n",
    "# simplified from https://github.com/openai/openai-cookbook/blob/main/examples/How_to_count_tokens_with_tiktoken.ipynb\n",
    "def num_tokens_from_messages(messages, tokens_per_message=3, tokens_per_name=1):\n",
    "    num_tokens = 0\n",
    "    for message in messages:\n",
    "        num_tokens += tokens_per_message\n",
    "        for key, value in message.items():\n",
    "            num_tokens += len(encoding.encode(value))\n",
    "            if key == \"name\":\n",
    "                num_tokens += tokens_per_name\n",
    "    num_tokens += 3\n",
    "    return num_tokens\n",
    "\n",
    "def num_assistant_tokens_from_messages(messages):\n",
    "    num_tokens = 0\n",
    "    for message in messages:\n",
    "        if message[\"role\"] == \"assistant\":\n",
    "            num_tokens += len(encoding.encode(message[\"content\"]))\n",
    "    return num_tokens\n",
    "\n",
    "def print_distribution(values, name):\n",
    "    print(f\"\\n#### Distribution of {name}:\")\n",
    "    print(f\"min / max: {min(values)}, {max(values)}\")\n",
    "    print(f\"mean / median: {np.mean(values)}, {np.median(values)}\")\n",
    "    print(f\"p5 / p95: {np.quantile(values, 0.1)}, {np.quantile(values, 0.9)}\")"
   ]
  },
  {
   "cell_type": "code",
   "execution_count": 5,
   "id": "5b6a7828dc50bcdd",
   "metadata": {
    "collapsed": false,
    "ExecuteTime": {
     "end_time": "2024-03-01T21:57:29.636320400Z",
     "start_time": "2024-03-01T21:57:29.577321500Z"
    }
   },
   "outputs": [
    {
     "name": "stdout",
     "output_type": "stream",
     "text": [
      "Num examples missing system message: 0\n",
      "Num examples missing user message: 0\n",
      "\n",
      "#### Distribution of num_messages_per_example:\n",
      "min / max: 3, 3\n",
      "mean / median: 3.0, 3.0\n",
      "p5 / p95: 3.0, 3.0\n",
      "\n",
      "#### Distribution of num_total_tokens_per_example:\n",
      "min / max: 128, 3310\n",
      "mean / median: 620.9629629629629, 437.0\n",
      "p5 / p95: 177.2, 1077.400000000001\n",
      "\n",
      "#### Distribution of num_assistant_tokens_per_example:\n",
      "min / max: 4, 453\n",
      "mean / median: 53.96296296296296, 31.0\n",
      "p5 / p95: 5.6, 101.00000000000003\n",
      "\n",
      "0 examples may be over the 4096 token limit, they will be truncated during fine-tuning\n"
     ]
    }
   ],
   "source": [
    "# Warnings and tokens counts\n",
    "n_missing_system = 0\n",
    "n_missing_user = 0\n",
    "n_messages = []\n",
    "convo_lens = []\n",
    "assistant_message_lens = []\n",
    "\n",
    "for ex in dataset:\n",
    "    messages = ex[\"messages\"]\n",
    "    if not any(message[\"role\"] == \"system\" for message in messages):\n",
    "        n_missing_system += 1\n",
    "    if not any(message[\"role\"] == \"user\" for message in messages):\n",
    "        n_missing_user += 1\n",
    "    n_messages.append(len(messages))\n",
    "    convo_lens.append(num_tokens_from_messages(messages))\n",
    "    assistant_message_lens.append(num_assistant_tokens_from_messages(messages))\n",
    "    \n",
    "print(\"Num examples missing system message:\", n_missing_system)\n",
    "print(\"Num examples missing user message:\", n_missing_user)\n",
    "print_distribution(n_messages, \"num_messages_per_example\")\n",
    "print_distribution(convo_lens, \"num_total_tokens_per_example\")\n",
    "print_distribution(assistant_message_lens, \"num_assistant_tokens_per_example\")\n",
    "n_too_long = sum(l > 4096 for l in convo_lens)\n",
    "print(f\"\\n{n_too_long} examples may be over the 4096 token limit, they will be truncated during fine-tuning\")"
   ]
  },
  {
   "cell_type": "code",
   "execution_count": 6,
   "id": "d68cc1ab877434f0",
   "metadata": {
    "collapsed": false,
    "ExecuteTime": {
     "end_time": "2024-03-01T21:57:35.477132200Z",
     "start_time": "2024-03-01T21:57:35.466131600Z"
    }
   },
   "outputs": [
    {
     "name": "stdout",
     "output_type": "stream",
     "text": [
      "Dataset has ~16766 tokens that will be charged for during training\n",
      "By default, you'll train for 3 epochs on this dataset\n",
      "By default, you'll be charged for ~50298 tokens\n"
     ]
    }
   ],
   "source": [
    "# Pricing and default n_epochs estimate\n",
    "MAX_TOKENS_PER_EXAMPLE = 4096\n",
    "\n",
    "TARGET_EPOCHS = 3\n",
    "MIN_TARGET_EXAMPLES = 100\n",
    "MAX_TARGET_EXAMPLES = 25000\n",
    "MIN_DEFAULT_EPOCHS = 1\n",
    "MAX_DEFAULT_EPOCHS = 25\n",
    "\n",
    "n_epochs = TARGET_EPOCHS\n",
    "n_train_examples = len(dataset)\n",
    "if n_train_examples * TARGET_EPOCHS < MIN_TARGET_EXAMPLES:\n",
    "    n_epochs = min(MAX_DEFAULT_EPOCHS, MIN_TARGET_EXAMPLES // n_train_examples)\n",
    "elif n_train_examples * TARGET_EPOCHS > MAX_TARGET_EXAMPLES:\n",
    "    n_epochs = max(MIN_DEFAULT_EPOCHS, MAX_TARGET_EXAMPLES // n_train_examples)\n",
    "\n",
    "n_billing_tokens_in_dataset = sum(min(MAX_TOKENS_PER_EXAMPLE, length) for length in convo_lens)\n",
    "print(f\"Dataset has ~{n_billing_tokens_in_dataset} tokens that will be charged for during training\")\n",
    "print(f\"By default, you'll train for {n_epochs} epochs on this dataset\")\n",
    "print(f\"By default, you'll be charged for ~{n_epochs * n_billing_tokens_in_dataset} tokens\")"
   ]
  },
  {
   "cell_type": "markdown",
   "source": [
    "## Fine tuning"
   ],
   "metadata": {
    "collapsed": false
   },
   "id": "84414035d598985c"
  },
  {
   "cell_type": "code",
   "execution_count": 8,
   "outputs": [],
   "source": [
    "file_path = data_path"
   ],
   "metadata": {
    "collapsed": false,
    "ExecuteTime": {
     "end_time": "2024-03-01T22:05:40.850176Z",
     "start_time": "2024-03-01T22:05:40.835127500Z"
    }
   },
   "id": "dc40c9d5f65ef564"
  },
  {
   "cell_type": "markdown",
   "source": [
    "### upload the fine tuning dataset\n",
    "In this step we need to collect key variables for the fine-tuned model:\n",
    "\n",
    "    1.file_object_id\n",
    "    2.fine_tuning_job_id\n",
    "    3.fine_tuned_model_name\n",
    "\n",
    "Note: If you want to fit the model with new datasets please open those blocks blew and reset key variables"
   ],
   "metadata": {
    "collapsed": false
   },
   "id": "2e6411d80efe68f6"
  },
  {
   "cell_type": "code",
   "execution_count": 23,
   "id": "541f62f429d903ac",
   "metadata": {
    "collapsed": false,
    "ExecuteTime": {
     "end_time": "2024-03-01T22:36:00.957612400Z",
     "start_time": "2024-03-01T22:36:00.947613300Z"
    }
   },
   "outputs": [
    {
     "data": {
      "text/plain": "'\\n#\\nfrom openai import OpenAI\\nclient = OpenAI()\\n# use English version: converted_messages_en.jsonl\\nfile_object  = client.files.create(\\n  file=open(file_path, \"rb\"),# could be: #messages.jsonl,#converted_messages.jsonl,#test_messages.jsonl\\n  purpose=\"fine-tune\"\\n)\\nprint(\"file_object.id:\",file_object.id)\\nfile_object_id = file_object.id\\nfile_object \\n\\n\\n# open when you want to upload new data for fine-tuning'"
     },
     "execution_count": 23,
     "metadata": {},
     "output_type": "execute_result"
    }
   ],
   "source": [
    "# open if you want to upload a new dataset\n",
    "\"\"\"\n",
    "#\n",
    "from openai import OpenAI\n",
    "client = OpenAI()\n",
    "# use English version: converted_messages_en.jsonl\n",
    "file_object  = client.files.create(\n",
    "  file=open(file_path, \"rb\"),# could be: #messages.jsonl,#converted_messages.jsonl,#test_messages.jsonl\n",
    "  purpose=\"fine-tune\"\n",
    ")\n",
    "print(\"file_object.id:\",file_object.id)\n",
    "file_object_id = file_object.id\n",
    "file_object \n",
    "\n",
    "\n",
    "# open when you want to upload new data for fine-tuning\"\"\""
   ]
  },
  {
   "cell_type": "code",
   "execution_count": null,
   "outputs": [],
   "source": [
    "file_object_id = 'file-RFWxvsMTKaJuqT9JP5wxusip'## change it if you want to upload a new dataset\n"
   ],
   "metadata": {
    "collapsed": false
   },
   "id": "377b544b0d43a84f"
  },
  {
   "cell_type": "markdown",
   "source": [
    "### Fine-tuning model\n",
    "fine_tuning_job\n",
    "fine_tuning_job.id=\"ftjob-YtoxfhaeCv5EDCjMt1PGbvHZ\" \n",
    "fine_tuned_model_name = \"gpt-3.5-turbo-0613\""
   ],
   "metadata": {
    "collapsed": false
   },
   "id": "8777b7623ef417fe"
  },
  {
   "cell_type": "code",
   "execution_count": 10,
   "id": "f7a64e4757f7cb30",
   "metadata": {
    "collapsed": false,
    "ExecuteTime": {
     "end_time": "2024-03-01T22:07:03.163183900Z",
     "start_time": "2024-03-01T22:06:35.990171500Z"
    }
   },
   "outputs": [
    {
     "name": "stdout",
     "output_type": "stream",
     "text": [
      "ftjob-zOPXqFLDdV9OfQODCOcBOYAH\n"
     ]
    },
    {
     "data": {
      "text/plain": "FineTuningJob(id='ftjob-zOPXqFLDdV9OfQODCOcBOYAH', created_at=1709330891, error=Error(code=None, message=None, param=None, error=None), fine_tuned_model=None, finished_at=None, hyperparameters=Hyperparameters(n_epochs='auto', batch_size='auto', learning_rate_multiplier='auto'), model='gpt-3.5-turbo-0125', object='fine_tuning.job', organization_id='org-1RBrqOHK4MGbSBFmx0Tqvb1b', result_files=[], status='validating_files', trained_tokens=None, training_file='file-RFWxvsMTKaJuqT9JP5wxusip', validation_file=None, user_provided_suffix=None)"
     },
     "execution_count": 10,
     "metadata": {},
     "output_type": "execute_result"
    }
   ],
   "source": [
    "# open if you want to upload a new dataset\n",
    "\"\"\"# open when you want to upload new data for fine-tuning\n",
    "from openai import OpenAI\n",
    "client = OpenAI()\n",
    "\n",
    "fine_tuning_job = client.fine_tuning.jobs.create(\n",
    "  training_file = file_object_id, \n",
    "  model=\"gpt-3.5-turbo\"\n",
    ")\n",
    "print(fine_tuning_job.id)\n",
    "fine_tuning_job\n",
    "\n",
    "#FineTuningJob(id='ftjob-2Lpyr3aaKh1qmUa2PiqOr9ma', created_at=1704830407, error=None, fine_tuned_model=None, finished_at=None, hyperparameters=Hyperparameters(n_epochs='auto', batch_size='auto', learning_rate_multiplier='auto'), model='gpt-3.5-turbo-0613', object='fine_tuning.job', organization_id='org-1RBrqOHK4MGbSBFmx0Tqvb1b', result_files=[], status='validating_files', trained_tokens=None, training_file='file-flA9y8B28JIGeZSq1nM8fPh9', validation_file=None)\n",
    "\"\"\""
   ]
  },
  {
   "cell_type": "code",
   "execution_count": 12,
   "outputs": [],
   "source": [
    "fine_tuning_job_id = 'ftjob-zOPXqFLDdV9OfQODCOcBOYAH' # change it if you want to upload a new dataset"
   ],
   "metadata": {
    "collapsed": false,
    "ExecuteTime": {
     "end_time": "2024-03-01T22:08:08.851745500Z",
     "start_time": "2024-03-01T22:08:08.844705Z"
    }
   },
   "id": "f521151700dc7168"
  },
  {
   "cell_type": "code",
   "execution_count": 13,
   "id": "e14e315126fe756d",
   "metadata": {
    "collapsed": false,
    "ExecuteTime": {
     "end_time": "2024-03-01T22:13:11.227254900Z",
     "start_time": "2024-03-01T22:08:09.463000800Z"
    }
   },
   "outputs": [
    {
     "name": "stdout",
     "output_type": "stream",
     "text": [
      "Wait for the fine-tuning job to complete...\n",
      "Wait for the fine-tuning job to complete...\n",
      "Wait for the fine-tuning job to complete...\n",
      "Wait for the fine-tuning job to complete...\n",
      "Wait for the fine-tuning job to complete...\n",
      "finetunned model name: ft:gpt-3.5-turbo-0125:personal::8y5QLwC3\n"
     ]
    }
   ],
   "source": [
    "# open if you want to upload a new dataset\n",
    "\"\"\"from openai import OpenAI\n",
    "import time\n",
    "\n",
    "client = OpenAI()\n",
    "\n",
    "# Loop to check the status of the fine-tuning job\n",
    "while True:\n",
    "    fine_tuning_job = client.fine_tuning.jobs.retrieve(fine_tuning_job_id)\n",
    "    if fine_tuning_job.status == 'succeeded':\n",
    "        # The fine-tuning job is completed and the name of the fine-tuned model is obtained.\n",
    "        fine_tuned_model_name = fine_tuning_job.fine_tuned_model\n",
    "        print(\"finetunned model name:\", fine_tuned_model_name)\n",
    "        break\n",
    "    elif fine_tuning_job.status == 'failed':\n",
    "        print(\"Fine-tuning job failed.\")\n",
    "        break\n",
    "    print(\"Wait for the fine-tuning job to complete...\")\n",
    "    time.sleep(60)\n",
    "\"\"\""
   ]
  },
  {
   "cell_type": "code",
   "execution_count": 14,
   "outputs": [],
   "source": [
    "fine_tuned_model_name = 'ft:gpt-3.5-turbo-0125:personal::8y5QLwC3'# change it if you want to upload a new dataset"
   ],
   "metadata": {
    "collapsed": false,
    "ExecuteTime": {
     "end_time": "2024-03-01T22:18:10.370183100Z",
     "start_time": "2024-03-01T22:18:10.353159400Z"
    }
   },
   "id": "8030839c7916c696"
  },
  {
   "cell_type": "markdown",
   "source": [
    "### Load the dataset contains quesions and contexts\n",
    "If you have some new datasets please reload them here.\n",
    "Note: the number of questions must not less than the number of context"
   ],
   "metadata": {
    "collapsed": false
   },
   "id": "bda432ebabe2ff21"
  },
  {
   "cell_type": "code",
   "execution_count": 41,
   "outputs": [
    {
     "data": {
      "text/plain": "                                  Competency Question  \\\n0   Who is working in the Computational Materials ...   \n1   What are the research projects associated to E...   \n2    Who are the contributors of the data \"datasets\"?   \n3   Who is working with Researcher \"Ebrahim Norouz...   \n4             who is the email address of \"ParaView\"?   \n5       What are the affilliations of Volker Hofmann?   \n6   What is \"Molecular Dynamics\" Software? List th...   \n7   What are pre- and post-processing tools for MD...   \n8   What are some workflow environments for comput...   \n9                           How should I cite pyiron?   \n10  Where can I find a list of interatomic potenti...   \n11  What are python libraries used for calculating...   \n12   What are the electronic lab notebooks available?   \n13  What are the software for Molecular Dynamics (...   \n14   What are the ontologies in nanomaterials domain?   \n15                                    What is DAMASK?   \n16  What are the data portals for materials scienc...   \n17                  What are the instruments for APT?   \n18  In which institution can I find tomography equ...   \n19   What are the educational resources for Ontology?   \n20              What is the API of Materials Project?   \n21       Which simulation software have a python API?   \n22   What is the documentation of the \"MatDB Online\"?   \n23           What are the types of software licenses?   \n24  What are the software used to produce the data...   \n25  What are datasets produced by the BAM organiza...   \n26  What are some available datasets of mechanical...   \n27  What are datasets related to \"Transmission ele...   \n28  What is the license of the dataset \"Elastic Co...   \n29   What is the repository for \"BAM reference data\"?   \n30  What are the different data formats in the \"BA...   \n31       What is the software version of \"pacemaker\"?   \n32  What is the field of research \"BAM reference d...   \n33  What is the description of the \"BAM reference ...   \n34            What are the datasets produced in 2022?   \n35   Who is the creators of the \"BAM reference data\"?   \n36          What are the datasets published by \"BAM\"?   \n37                                            Average   \n\n                                         Ground Truth  \\\n0   PD Dr. habil. Thomas Hammerschmidt; Prof. Dr. ...   \n1   VIMMP (2018-2021); OYSTER (2017-2021); SimDOME...   \n2   Prof. Felix Fritzen <http://demo.fiz-karlsruhe...   \n3   Prof. Dr. Harald Sack; Mirza Mohtashim Alam; D...   \n4                                 support@kitware.com   \n5   Forschungszentrum Jülich <http://demo.fiz-karl...   \n6   1. Resource: http://demo.fiz-karlsruhe.de/matw...   \n7        Pizza.py Toolkit; pyscal; ASE; MDTraj; freud   \n8                             Pyiron; AiiDA; SimStack   \n9   \"title = {pyiron: An integrated development en...   \n10  Interatomic potentials repository (NIST); Open...   \n11                                             Pyscal   \n12  Pasta ELN; eLabFTW; Karlsruhe Data Infrastruct...   \n13  Calphy; Melting temperature computational work...   \n14  MaterialsMine (MM); NanoParticle Ontology for ...   \n15  DAMASK is a unified multi-physics crystal plas...   \n16                                          MatPortal   \n17                                          No Answer   \n18  1. Procon CT-alpha\"\\n \"X-ray micro computed to...   \n19  Knowledge Graphs (openHPI Massive Open Online ...   \n20              https://api.materialsproject.org/docs   \n21                                          EMMOntoPy   \n22  https://publications.jrc.ec.europa.eu/reposito...   \n23  BSD-3-Clause license; GPL 3 License; ASL/ BSD-...   \n24                  pymatgen; AiiDA; Quantum Espresso   \n25  BAM reference data: results of ASTM E139 -11 c...   \n26  Full dataset of several mechanical tests on an...   \n27  Radii of S-phase Al2CuMg in Al-alloy EN AW-261...   \n28                               BSD 3-Clause License   \n29  http://demo.fiz-karlsruhe.de/matwerk/E291704; ...   \n30                                           csv; pdf   \n31                                              0.2.7   \n32               high temperature mechanical behavior   \n33  The creep behavior of a certified reference ma...   \n34  Brinell-Hardness (HBW 2.5/62.5) of Al-alloy EN...   \n35  Sina Schriever (http://demo.fiz-karlsruhe.de/m...   \n36  Datasets for the analysis of dislocations at g...   \n37                                                NaN   \n\n                                      Related Triples  \\\n0   [('http://demo.fiz-karlsruhe.de/matwerk/E12326...   \n1   [('http://demo.fiz-karlsruhe.de/matwerk/E11524...   \n2   [('http://demo.fiz-karlsruhe.de/matwerk/E11722...   \n3   [('http://demo.fiz-karlsruhe.de/matwerk/E31877...   \n4   [('http://demo.fiz-karlsruhe.de/matwerk/E41915...   \n5   [('http://demo.fiz-karlsruhe.de/matwerk/E14531...   \n6   [('http://demo.fiz-karlsruhe.de/matwerk/E55172...   \n7   [('http://demo.fiz-karlsruhe.de/matwerk/E47387...   \n8   [('http://demo.fiz-karlsruhe.de/matwerk/E10313...   \n9   [('http://demo.fiz-karlsruhe.de/matwerk/E45749...   \n10  [('http://demo.fiz-karlsruhe.de/matwerk/E41732...   \n11  [('http://demo.fiz-karlsruhe.de/matwerk/E41368...   \n12  [('http://demo.fiz-karlsruhe.de/matwerk/E11999...   \n13  [('http://demo.fiz-karlsruhe.de/matwerk/E10241...   \n14  [('http://demo.fiz-karlsruhe.de/matwerk/E11433...   \n15  [('http://demo.fiz-karlsruhe.de/matwerk/E44421...   \n16  [('http://demo.fiz-karlsruhe.de/matwerk/E12486...   \n17  [('http://demo.fiz-karlsruhe.de/matwerk/E10241...   \n18                                                 []   \n19  [('http://demo.fiz-karlsruhe.de/matwerk/E11327...   \n20  [('http://demo.fiz-karlsruhe.de/matwerk/E10270...   \n21  [('http://demo.fiz-karlsruhe.de/matwerk/E11252...   \n22  [('http://demo.fiz-karlsruhe.de/matwerk/E11463...   \n23  [('http://purls.helmholtz-metadaten.de/mwo/has...   \n24  [('http://demo.fiz-karlsruhe.de/matwerk/E10866...   \n25  [('http://demo.fiz-karlsruhe.de/matwerk/E12483...   \n26  [('http://demo.fiz-karlsruhe.de/matwerk/E12466...   \n27  [('http://demo.fiz-karlsruhe.de/matwerk/E52273...   \n28  [('http://demo.fiz-karlsruhe.de/matwerk/E11600...   \n29  [('http://demo.fiz-karlsruhe.de/matwerk/E11737...   \n30  [('http://demo.fiz-karlsruhe.de/matwerk/E11539...   \n31  [('http://demo.fiz-karlsruhe.de/matwerk/E51155...   \n32  [(':n24fcd3fc8d9441f293ea115e3ab0e59bb21', 'rd...   \n33  [('http://demo.fiz-karlsruhe.de/matwerk/E11737...   \n34                                                 []   \n35  [('http://demo.fiz-karlsruhe.de/matwerk/E11539...   \n36  [('http://demo.fiz-karlsruhe.de/matwerk/E12483...   \n37                                                NaN   \n\n                                              Context  \n0   Prof. Stefan Diebels has expertise in Computat...  \n1   Essential Source of Schemas and Examples (ESSE...  \n2   datasets has contributor Fernández; datasets h...  \n3   Thomas Pardoen has work package Institute of M...  \n4   ParaView has website https://www.paraview.org/...  \n5   Dr. Tilmann Hickel has affiliation with Max-Pl...  \n6   OpenBIS has  description \"The openBIS platform...  \n7   AML has  description \"Python package to automa...  \n8   Atomistictools has related resource Pyiron; Py...  \n9   Pyiron has  description \"pyiron is an integrat...  \n10  Image based prediction of the heat conduction ...  \n11  Pyscal has repository https://github.com/pysca...  \n12  Jupyter notebooks has type object type; Datase...  \n13  Crystallography Open Database (COD) has websit...  \n14  Materials And Molecules Basic Ontology (MAMBO)...  \n15  Elk has type software; Elk has type research s...  \n16  Development of coupled ontologies and workflow...  \n17  Crystallography Open Database (COD) has citati...  \n18                                                NaN  \n19  Aditive Manufacturing Ontology (AMONTOLOGY) ha...  \n20  Materials Cloud has repository https://github....  \n21  OPTIMADE has citation Andersen et al, OPTIMADE...  \n22  MatDB Online has documentation https://publica...  \n23  has format has type nan; https://compositionsp...  \n24  Materials Commons has description \"A site for ...  \n25  Framework for curation and distribution of ref...  \n26  Elastic Constant Demo has related resource Ela...  \n27  pySTEM has  description \"Automatic segmentatio...  \n28  NeXus Data Format has license LGPL-2.1 license...  \n29  BAM reference data: results of ASTM E139 -11 c...  \n30  Electronic Structure Common Data Format (ESCDF...  \n31  pacemaker has Version \"0.2.7\"; pacemaker has  ...  \n32  :n24fcd3fc8d9441f293ea115e3ab0e59bb21 has firs...  \n33  BAM reference data: results of ASTM E139 -11 c...  \n34                                                NaN  \n35  Electronic Structure Common Data Format (ESCDF...  \n36  Framework for curation and distribution of ref...  \n37                                                NaN  ",
      "text/html": "<div>\n<style scoped>\n    .dataframe tbody tr th:only-of-type {\n        vertical-align: middle;\n    }\n\n    .dataframe tbody tr th {\n        vertical-align: top;\n    }\n\n    .dataframe thead th {\n        text-align: right;\n    }\n</style>\n<table border=\"1\" class=\"dataframe\">\n  <thead>\n    <tr style=\"text-align: right;\">\n      <th></th>\n      <th>Competency Question</th>\n      <th>Ground Truth</th>\n      <th>Related Triples</th>\n      <th>Context</th>\n    </tr>\n  </thead>\n  <tbody>\n    <tr>\n      <th>0</th>\n      <td>Who is working in the Computational Materials ...</td>\n      <td>PD Dr. habil. Thomas Hammerschmidt; Prof. Dr. ...</td>\n      <td>[('http://demo.fiz-karlsruhe.de/matwerk/E12326...</td>\n      <td>Prof. Stefan Diebels has expertise in Computat...</td>\n    </tr>\n    <tr>\n      <th>1</th>\n      <td>What are the research projects associated to E...</td>\n      <td>VIMMP (2018-2021); OYSTER (2017-2021); SimDOME...</td>\n      <td>[('http://demo.fiz-karlsruhe.de/matwerk/E11524...</td>\n      <td>Essential Source of Schemas and Examples (ESSE...</td>\n    </tr>\n    <tr>\n      <th>2</th>\n      <td>Who are the contributors of the data \"datasets\"?</td>\n      <td>Prof. Felix Fritzen &lt;http://demo.fiz-karlsruhe...</td>\n      <td>[('http://demo.fiz-karlsruhe.de/matwerk/E11722...</td>\n      <td>datasets has contributor Fernández; datasets h...</td>\n    </tr>\n    <tr>\n      <th>3</th>\n      <td>Who is working with Researcher \"Ebrahim Norouz...</td>\n      <td>Prof. Dr. Harald Sack; Mirza Mohtashim Alam; D...</td>\n      <td>[('http://demo.fiz-karlsruhe.de/matwerk/E31877...</td>\n      <td>Thomas Pardoen has work package Institute of M...</td>\n    </tr>\n    <tr>\n      <th>4</th>\n      <td>who is the email address of \"ParaView\"?</td>\n      <td>support@kitware.com</td>\n      <td>[('http://demo.fiz-karlsruhe.de/matwerk/E41915...</td>\n      <td>ParaView has website https://www.paraview.org/...</td>\n    </tr>\n    <tr>\n      <th>5</th>\n      <td>What are the affilliations of Volker Hofmann?</td>\n      <td>Forschungszentrum Jülich &lt;http://demo.fiz-karl...</td>\n      <td>[('http://demo.fiz-karlsruhe.de/matwerk/E14531...</td>\n      <td>Dr. Tilmann Hickel has affiliation with Max-Pl...</td>\n    </tr>\n    <tr>\n      <th>6</th>\n      <td>What is \"Molecular Dynamics\" Software? List th...</td>\n      <td>1. Resource: http://demo.fiz-karlsruhe.de/matw...</td>\n      <td>[('http://demo.fiz-karlsruhe.de/matwerk/E55172...</td>\n      <td>OpenBIS has  description \"The openBIS platform...</td>\n    </tr>\n    <tr>\n      <th>7</th>\n      <td>What are pre- and post-processing tools for MD...</td>\n      <td>Pizza.py Toolkit; pyscal; ASE; MDTraj; freud</td>\n      <td>[('http://demo.fiz-karlsruhe.de/matwerk/E47387...</td>\n      <td>AML has  description \"Python package to automa...</td>\n    </tr>\n    <tr>\n      <th>8</th>\n      <td>What are some workflow environments for comput...</td>\n      <td>Pyiron; AiiDA; SimStack</td>\n      <td>[('http://demo.fiz-karlsruhe.de/matwerk/E10313...</td>\n      <td>Atomistictools has related resource Pyiron; Py...</td>\n    </tr>\n    <tr>\n      <th>9</th>\n      <td>How should I cite pyiron?</td>\n      <td>\"title = {pyiron: An integrated development en...</td>\n      <td>[('http://demo.fiz-karlsruhe.de/matwerk/E45749...</td>\n      <td>Pyiron has  description \"pyiron is an integrat...</td>\n    </tr>\n    <tr>\n      <th>10</th>\n      <td>Where can I find a list of interatomic potenti...</td>\n      <td>Interatomic potentials repository (NIST); Open...</td>\n      <td>[('http://demo.fiz-karlsruhe.de/matwerk/E41732...</td>\n      <td>Image based prediction of the heat conduction ...</td>\n    </tr>\n    <tr>\n      <th>11</th>\n      <td>What are python libraries used for calculating...</td>\n      <td>Pyscal</td>\n      <td>[('http://demo.fiz-karlsruhe.de/matwerk/E41368...</td>\n      <td>Pyscal has repository https://github.com/pysca...</td>\n    </tr>\n    <tr>\n      <th>12</th>\n      <td>What are the electronic lab notebooks available?</td>\n      <td>Pasta ELN; eLabFTW; Karlsruhe Data Infrastruct...</td>\n      <td>[('http://demo.fiz-karlsruhe.de/matwerk/E11999...</td>\n      <td>Jupyter notebooks has type object type; Datase...</td>\n    </tr>\n    <tr>\n      <th>13</th>\n      <td>What are the software for Molecular Dynamics (...</td>\n      <td>Calphy; Melting temperature computational work...</td>\n      <td>[('http://demo.fiz-karlsruhe.de/matwerk/E10241...</td>\n      <td>Crystallography Open Database (COD) has websit...</td>\n    </tr>\n    <tr>\n      <th>14</th>\n      <td>What are the ontologies in nanomaterials domain?</td>\n      <td>MaterialsMine (MM); NanoParticle Ontology for ...</td>\n      <td>[('http://demo.fiz-karlsruhe.de/matwerk/E11433...</td>\n      <td>Materials And Molecules Basic Ontology (MAMBO)...</td>\n    </tr>\n    <tr>\n      <th>15</th>\n      <td>What is DAMASK?</td>\n      <td>DAMASK is a unified multi-physics crystal plas...</td>\n      <td>[('http://demo.fiz-karlsruhe.de/matwerk/E44421...</td>\n      <td>Elk has type software; Elk has type research s...</td>\n    </tr>\n    <tr>\n      <th>16</th>\n      <td>What are the data portals for materials scienc...</td>\n      <td>MatPortal</td>\n      <td>[('http://demo.fiz-karlsruhe.de/matwerk/E12486...</td>\n      <td>Development of coupled ontologies and workflow...</td>\n    </tr>\n    <tr>\n      <th>17</th>\n      <td>What are the instruments for APT?</td>\n      <td>No Answer</td>\n      <td>[('http://demo.fiz-karlsruhe.de/matwerk/E10241...</td>\n      <td>Crystallography Open Database (COD) has citati...</td>\n    </tr>\n    <tr>\n      <th>18</th>\n      <td>In which institution can I find tomography equ...</td>\n      <td>1. Procon CT-alpha\"\\n \"X-ray micro computed to...</td>\n      <td>[]</td>\n      <td>NaN</td>\n    </tr>\n    <tr>\n      <th>19</th>\n      <td>What are the educational resources for Ontology?</td>\n      <td>Knowledge Graphs (openHPI Massive Open Online ...</td>\n      <td>[('http://demo.fiz-karlsruhe.de/matwerk/E11327...</td>\n      <td>Aditive Manufacturing Ontology (AMONTOLOGY) ha...</td>\n    </tr>\n    <tr>\n      <th>20</th>\n      <td>What is the API of Materials Project?</td>\n      <td>https://api.materialsproject.org/docs</td>\n      <td>[('http://demo.fiz-karlsruhe.de/matwerk/E10270...</td>\n      <td>Materials Cloud has repository https://github....</td>\n    </tr>\n    <tr>\n      <th>21</th>\n      <td>Which simulation software have a python API?</td>\n      <td>EMMOntoPy</td>\n      <td>[('http://demo.fiz-karlsruhe.de/matwerk/E11252...</td>\n      <td>OPTIMADE has citation Andersen et al, OPTIMADE...</td>\n    </tr>\n    <tr>\n      <th>22</th>\n      <td>What is the documentation of the \"MatDB Online\"?</td>\n      <td>https://publications.jrc.ec.europa.eu/reposito...</td>\n      <td>[('http://demo.fiz-karlsruhe.de/matwerk/E11463...</td>\n      <td>MatDB Online has documentation https://publica...</td>\n    </tr>\n    <tr>\n      <th>23</th>\n      <td>What are the types of software licenses?</td>\n      <td>BSD-3-Clause license; GPL 3 License; ASL/ BSD-...</td>\n      <td>[('http://purls.helmholtz-metadaten.de/mwo/has...</td>\n      <td>has format has type nan; https://compositionsp...</td>\n    </tr>\n    <tr>\n      <th>24</th>\n      <td>What are the software used to produce the data...</td>\n      <td>pymatgen; AiiDA; Quantum Espresso</td>\n      <td>[('http://demo.fiz-karlsruhe.de/matwerk/E10866...</td>\n      <td>Materials Commons has description \"A site for ...</td>\n    </tr>\n    <tr>\n      <th>25</th>\n      <td>What are datasets produced by the BAM organiza...</td>\n      <td>BAM reference data: results of ASTM E139 -11 c...</td>\n      <td>[('http://demo.fiz-karlsruhe.de/matwerk/E12483...</td>\n      <td>Framework for curation and distribution of ref...</td>\n    </tr>\n    <tr>\n      <th>26</th>\n      <td>What are some available datasets of mechanical...</td>\n      <td>Full dataset of several mechanical tests on an...</td>\n      <td>[('http://demo.fiz-karlsruhe.de/matwerk/E12466...</td>\n      <td>Elastic Constant Demo has related resource Ela...</td>\n    </tr>\n    <tr>\n      <th>27</th>\n      <td>What are datasets related to \"Transmission ele...</td>\n      <td>Radii of S-phase Al2CuMg in Al-alloy EN AW-261...</td>\n      <td>[('http://demo.fiz-karlsruhe.de/matwerk/E52273...</td>\n      <td>pySTEM has  description \"Automatic segmentatio...</td>\n    </tr>\n    <tr>\n      <th>28</th>\n      <td>What is the license of the dataset \"Elastic Co...</td>\n      <td>BSD 3-Clause License</td>\n      <td>[('http://demo.fiz-karlsruhe.de/matwerk/E11600...</td>\n      <td>NeXus Data Format has license LGPL-2.1 license...</td>\n    </tr>\n    <tr>\n      <th>29</th>\n      <td>What is the repository for \"BAM reference data\"?</td>\n      <td>http://demo.fiz-karlsruhe.de/matwerk/E291704; ...</td>\n      <td>[('http://demo.fiz-karlsruhe.de/matwerk/E11737...</td>\n      <td>BAM reference data: results of ASTM E139 -11 c...</td>\n    </tr>\n    <tr>\n      <th>30</th>\n      <td>What are the different data formats in the \"BA...</td>\n      <td>csv; pdf</td>\n      <td>[('http://demo.fiz-karlsruhe.de/matwerk/E11539...</td>\n      <td>Electronic Structure Common Data Format (ESCDF...</td>\n    </tr>\n    <tr>\n      <th>31</th>\n      <td>What is the software version of \"pacemaker\"?</td>\n      <td>0.2.7</td>\n      <td>[('http://demo.fiz-karlsruhe.de/matwerk/E51155...</td>\n      <td>pacemaker has Version \"0.2.7\"; pacemaker has  ...</td>\n    </tr>\n    <tr>\n      <th>32</th>\n      <td>What is the field of research \"BAM reference d...</td>\n      <td>high temperature mechanical behavior</td>\n      <td>[(':n24fcd3fc8d9441f293ea115e3ab0e59bb21', 'rd...</td>\n      <td>:n24fcd3fc8d9441f293ea115e3ab0e59bb21 has firs...</td>\n    </tr>\n    <tr>\n      <th>33</th>\n      <td>What is the description of the \"BAM reference ...</td>\n      <td>The creep behavior of a certified reference ma...</td>\n      <td>[('http://demo.fiz-karlsruhe.de/matwerk/E11737...</td>\n      <td>BAM reference data: results of ASTM E139 -11 c...</td>\n    </tr>\n    <tr>\n      <th>34</th>\n      <td>What are the datasets produced in 2022?</td>\n      <td>Brinell-Hardness (HBW 2.5/62.5) of Al-alloy EN...</td>\n      <td>[]</td>\n      <td>NaN</td>\n    </tr>\n    <tr>\n      <th>35</th>\n      <td>Who is the creators of the \"BAM reference data\"?</td>\n      <td>Sina Schriever (http://demo.fiz-karlsruhe.de/m...</td>\n      <td>[('http://demo.fiz-karlsruhe.de/matwerk/E11539...</td>\n      <td>Electronic Structure Common Data Format (ESCDF...</td>\n    </tr>\n    <tr>\n      <th>36</th>\n      <td>What are the datasets published by \"BAM\"?</td>\n      <td>Datasets for the analysis of dislocations at g...</td>\n      <td>[('http://demo.fiz-karlsruhe.de/matwerk/E12483...</td>\n      <td>Framework for curation and distribution of ref...</td>\n    </tr>\n    <tr>\n      <th>37</th>\n      <td>Average</td>\n      <td>NaN</td>\n      <td>NaN</td>\n      <td>NaN</td>\n    </tr>\n  </tbody>\n</table>\n</div>"
     },
     "execution_count": 41,
     "metadata": {},
     "output_type": "execute_result"
    }
   ],
   "source": [
    "import pandas as pd\n",
    "path = r\"C:\\Users\\Li\\Desktop\\input.xlsx\"\n",
    "df = pd.read_excel(path)\n",
    "df"
   ],
   "metadata": {
    "collapsed": false,
    "ExecuteTime": {
     "end_time": "2024-03-01T23:03:41.307809300Z",
     "start_time": "2024-03-01T23:03:41.273231900Z"
    }
   },
   "id": "9af61d89731becd3"
  },
  {
   "cell_type": "code",
   "execution_count": 27,
   "outputs": [
    {
     "name": "stdout",
     "output_type": "stream",
     "text": [
      "38\n",
      "35\n"
     ]
    }
   ],
   "source": [
    "questions = df['Competency Question']\n",
    "contexts = df['Context']\n",
    "length = questions.count()\n",
    "print(questions.count())\n",
    "print(contexts.count())\n"
   ],
   "metadata": {
    "collapsed": false,
    "ExecuteTime": {
     "end_time": "2024-03-01T22:47:11.702134100Z",
     "start_time": "2024-03-01T22:47:11.684137900Z"
    }
   },
   "id": "d8c38c00aa5dbdfb"
  },
  {
   "cell_type": "markdown",
   "source": [
    "## QA tasks based on the fine-tuned model"
   ],
   "metadata": {
    "collapsed": false
   },
   "id": "c82edd3092e2cc92"
  },
  {
   "cell_type": "code",
   "execution_count": 21,
   "outputs": [],
   "source": [
    "import os\n",
    "from openai import OpenAI\n",
    "import openai\n",
    "\n",
    "def get_answer_with_single_question(question, context):\n",
    "\n",
    "    # Set OpenAI API key\n",
    "    api_key = os.environ.get('OPENAI_API_KEY')\n",
    "    openai.api_key = api_key\n",
    "\n",
    "    # Initialize OpenAI client\n",
    "    client = OpenAI(api_key=api_key)\n",
    "\n",
    "    # Set up the model\n",
    "    model=fine_tuned_model_name\n",
    "\n",
    "    try:\n",
    "        messages=[\n",
    "                    {\"role\": \"system\", \"content\": \"You are a helpful assistant. Extract and answer using key information from context. Ensure the response is concise, without duplicates, focusing solely on crucial details. There are two examples: Example 1: (Context: The sun is a star in the center of our solar system.Question: What is the sun? Answer: A star at the center of the solar system.) and Example 2: (Context: Neil Armstrong was the first person to walk on the moon. Question: Who was the first person to walk on the moon? Answer: Neil Armstrong.)\"},\n",
    "                    # instruction\n",
    "                    {\"role\": \"user\", \"content\": \"Context: \" + context + \" Question:\" + question}\n",
    "        ]\n",
    "        response = client.chat.completions.create(\n",
    "            model=model,\n",
    "            messages=messages\n",
    "        )\n",
    "        \n",
    "        # Extract and return the answer\n",
    "        answer = response.choices[0].message.content\n",
    "        return answer\n",
    "\n",
    "    except Exception as e:\n",
    "        print(f\"An error occurred while processing the problem: {e}\")\n",
    "        return \"Unable to get answer\"\n"
   ],
   "metadata": {
    "collapsed": false,
    "ExecuteTime": {
     "end_time": "2024-03-01T22:33:37.794031500Z",
     "start_time": "2024-03-01T22:33:37.779035700Z"
    }
   },
   "id": "b26b0e7ba21bf070"
  },
  {
   "cell_type": "code",
   "execution_count": 38,
   "id": "3e14f9b2bca9c276",
   "metadata": {
    "collapsed": false,
    "ExecuteTime": {
     "end_time": "2024-03-01T23:01:26.400141400Z",
     "start_time": "2024-03-01T23:00:58.270101100Z"
    }
   },
   "outputs": [
    {
     "name": "stdout",
     "output_type": "stream",
     "text": [
      "No. 0 question: Who is working in the Computational Materials Science field?\n",
      "No. 0 context: Prof. Stefan Diebels has expertise in Computational materials science; PD Dr.  Franz  Roters has expertise in Computational materials science; EQ2PC has discipline Computational materials science; Prof. Dr. Karsten  Durst has expertise in Computational Materials Science; Prof. Dr.-Ing. Stephan Wulfinghoff has expertise in Computational Materials Science; Christian Dorn has expertise in Computational Materials Science; Dr.-Ing Abril Azocar Guzman has expertise in Computational Materials Science; Prof. Dr.  Jörg Neugebauer has expertise in Computational Materials Science; pyscal_rdf has discipline Computational Materials Science; Elastic Constant Demo has discipline Computational Materials Science; Computational Material Sample Ontology has discipline Computational Materials Science; Elastic Constant Demo Data has discipline Computational Materials Science; TURBOMOLE has discipline Computational Material Science; Open Materials Database has description \"The Open Materials Database is a publicly available, searchable database for information on the properties of materials created by people who work in computational materials design research. \"; Materials Design Ontology (MDO) has related Project Open Databases Integration for Materials Design (OPTIMADE); Materials Design Ontology (MDO) has documentation w3id.org/mdo/full/1.0/; Materials Design Ontology (MDO) has description \"MDO is an ontology for materials design field, representing the domain knowledge specifically related to solid-state physics and computational materials science.\"; Pyiron YouTube channel has description \"Welcome to our youtube channel where we present pyiron - an integrated development environment for computational materials science. \"; PD Dr. habil.  Thomas Hammerschmidt has expertise in computational materials science; Dr Sarath Menon has expertise in computational materials science; Calphy has discipline computational materials science; Melting temperature computational workflow has discipline computational materials science; Pyscal has discipline computational materials science; MinimumEnergyPoints has discipline computational materials science; Image based prediction of the heat conduction tensor has discipline computational materials science; Finite Element Analysis Program has discipline computational materials science; Vienna Ab initio Simulation Package has discipline computational materials science; CAmbridge Serial Total Energy Package has discipline computational materials science; Carr Parrinello Molecular Dynamics has discipline computational materials science; ABINIT has discipline computational materials science; BigDFT has discipline computational materials science; Parallel total energy has discipline computational materials science; JDTFx has discipline computational materials science; PARSEC has discipline computational materials science; CP2K has discipline computational materials science; GPAW has discipline computational materials science; S/PHI/nX has discipline computational materials science; Qbox First-Principles Molecular Dynamics has discipline computational materials science; DFTK.jl has discipline computational materials science; density of Montréal has discipline computational materials science; SIESTA has discipline computational materials science; CRYSTAL has discipline computational materials science; FHI-AIMS has discipline computational materials science; FPLO has discipline computational materials science; Open source package for Material eXplorer has discipline computational materials science; Elk has discipline computational materials science; exciting has discipline computational materials science; FLEUR has discipline computational materials science; WIEN2k has discipline computational materials science; Large-scale Atomic/Molecular Massively Parallel Simulator has discipline computational materials science; The ITAP Molecular Dynamics Program has discipline computational materials science; GROMACS has discipline computational materials science; MD++ has discipline computational materials science; Thermo-Calc has discipline computational materials science; OpenPhase has discipline computational materials science; Multiphysics Object Oriented Simulation Environment has discipline computational materials science; Abaqus has discipline computational materials science; FeniCS Project has discipline computational materials science; Dusseldorf Advanced Material Simulation Kit has discipline computational materials science; Automated interactive infrastructure and database for computational science has discipline computational materials science; SimStack has discipline computational materials science; Atomic Simulation Environment has discipline computational materials science; Quantum Espresso has discipline computational materials science; Pyiron has discipline computational materials science\n",
      "No. 0 answer: Experts: Prof. Stefan Diebels, PD Dr. Franz Roters, Prof. Dr. Karsten Durst, Prof. Dr.-Ing. Stephan Wulfinghoff, Christian Dorn, Dr.-Ing Abril Azocar Guzman, Prof. Dr. Jörg Neugebauer, PD Dr habill. Thomas Hammerschmidt, Dr Sarath Menon. Tools: EQ2PC, pyscal_rdf, Elastic Constant Demo, Computational Material Sample Ontology, Pyiron YouTube channel, Calphy, Melting temperature computational workflow, Pyscal, MinimumEnergyPoints, Image based prediction of the heat conduction tensor, Finite Element Analysis Program, Vienna Ab initio Simulation Package, Cambridge Serial Total Energy Package, Carr Parrinello Molecular Dynamics, ABINIT, BigDFT, Parallel total energy, JDTFx, PARSEC, CP2K, GPAW, S/PHI/nX, Qbox First-Principles Molecular Dynamics, DFTK.jl, density of Montréal, SIESTA, CRYSTAL, FHI-AIMS, FPLO, Open source package for Material eXplorer, Elk, exciting, FLEUR, WIEN2k, Large-scale Atomic/Molecular Massively Parallel Simulator, The ITAP Molecular Dynamics Program, GROMACS, MD++, Thermo-Calc, OpenPhase, Multiphysics Object Oriented Simulation Environment, Abaqus, FeniCS Project, Dusseldorf Advanced Material Simulation Kit, Automated interactive infrastructure and database for computational science, SimStack, Atomic Simulation Environment, Quantum Espresso.\n",
      "No. 1 question: What are the research projects associated to EMMO?\n",
      "No. 1 context: Essential Source of Schemas and Examples (ESSE) has description \"JSON schemas and examples representing structural data, characteristic properties, modeling workflows and related data about materials standardizing the diverse landscape of information\"; Elemental Multiperspective Material Ontology (EMMO) has related Project EMMC-CSA (2016-2019); Elemental Multiperspective Material Ontology (EMMO) has related Project SimDOME (2019-2023); Elemental Multiperspective Material Ontology (EMMO) has related Project MarketPlace (2018-2022); Elemental Multiperspective Material Ontology (EMMO) has related Project VIMMP (2018-2021); Elemental Multiperspective Material Ontology (EMMO) has related Project OntoTrans (2020-2024); Elemental Multiperspective Material Ontology (EMMO) has related Project ReaxPro (2019-2023); Elemental Multiperspective Material Ontology (EMMO) has related Project OntoCommons (2020-2023); Elemental Multiperspective Material Ontology (EMMO) has related Project OYSTER (2017-2021); Elemental Multiperspective Material Ontology (EMMO) has related Project NanoMECommons (2021-2025); Elemental Multiperspective Material Ontology (EMMO) has related Project OpenModel (2021-2025); Elemental Multiperspective Material Ontology (EMMO) has description \"The Elemental Multiperspective Material Ontology (EMMO) is the result of a multidisciplinary effort within the EMMC, aimed at the development of a standard representational ontology framework based on current materials modelling and characterization knowledge.\"\n",
      "No. 1 answer:   essence\">Answer: \n",
      "1. EMMC-CSA (2016-2019) \n",
      "2. SimDOME (2019-2023) \n",
      "3. MarketPlace (2018-2022) \n",
      "4. VIMMP (2018-2021) \n",
      "5. OntoTrans (2020-2024) \n",
      "6. ReaxPro (2019-2023) \n",
      "7. OntoCommons (2020-2023) \n",
      "8. OYSTER (2017-2021) \n",
      "9. NanoMECommons (2021-2025) \n",
      "10. OpenModel (2021-2025)\n",
      "No. 2 question: Who are the contributors of the data \"datasets\"?\n",
      "No. 2 context: datasets has contributor Fernández; datasets has contributor Prof. Felix Fritzen; datasets has contributor Oliver Weeger; datasets has contributor Frederik Larsson; datasets has description \"This dataset was used in the work \"Material modeling for parametric, anisotropic finite hyperelasticity based on machine learning with application in optimization of metamaterials\" by M. Fernández, F. Fritzen and O. Weeger\"; datasets has description \"This dataset was used in the work \"On-the-Fly Adaptivity for Nonlinear Twoscale Simulations Using Artificial Neural Networks and Reduced Order Modeling\" by F. Fritzen, M. Fernández,  and F. Larsson\"\n",
      "No. 2 answer:  Fernández; Prof. Felix Fritzen; Oliver Weeger; Frederik Larsson\n",
      "No. 3 question: Who is working with Researcher \"Ebrahim Norouzi\" in the same group?\n",
      "No. 3 context: Thomas Pardoen has work package Institute of Mechanics; Thomas Pardoen has expertise in Institute of Mechanics; Thomas Pardoen has funding project  Institute of Mechanics; Thomas Pardoen related participant project is Institute of Mechanics; Thomas Pardoen has related Project Institute of Mechanics; Thomas Pardoen has discipline Institute of Mechanics; Thomas Pardoen has parent organisation  Institute of Mechanics; Thomas Pardoen has related task area Institute of Mechanics; Thomas Pardoen has documentation Institute of Mechanics; Thomas Pardoen has description Institute of Mechanics; Thomas Pardoen has  description Institute of Mechanics; Ebrahim Norouzi has work package FIZ Karlsruhe - Leibniz Institute for Information Infrastructure; Dr. Jörg Waitelonis has work package FIZ Karlsruhe - Leibniz Institute for Information Infrastructure; Dr.  Heike Fliegl has work package FIZ Karlsruhe - Leibniz Institute for Information Infrastructure; Prof. Dr. Harald Sack has work package FIZ Karlsruhe - Leibniz Institute for Information Infrastructure; Mirza Mohtashim Alam has expertise in Knowledge Graph Embedding; Mirza Mohtashim Alam has expertise in Machine Learning; Mirza Mohtashim Alam has expertise in NLP; Mirza Mohtashim Alam has expertise in Computer Science; Ebrahim Norouzi has expertise in FIZ Karlsruhe - Leibniz Institute for Information Infrastructure; Dr. Jörg Waitelonis has expertise in FIZ Karlsruhe - Leibniz Institute for Information Infrastructure; Dr.  Heike Fliegl has expertise in FIZ Karlsruhe - Leibniz Institute for Information Infrastructure; Prof. Dr. Harald Sack has expertise in FIZ Karlsruhe - Leibniz Institute for Information Infrastructure; Ebrahim Norouzi has funding project  FIZ Karlsruhe - Leibniz Institute for Information Infrastructure; Dr. Jörg Waitelonis has funding project  FIZ Karlsruhe - Leibniz Institute for Information Infrastructure; Dr.  Heike Fliegl has funding project  FIZ Karlsruhe - Leibniz Institute for Information Infrastructure; Prof. Dr. Harald Sack has funding project  FIZ Karlsruhe - Leibniz Institute for Information Infrastructure; Ebrahim Norouzi related participant project is FIZ Karlsruhe - Leibniz Institute for Information Infrastructure; Dr. Jörg Waitelonis related participant project is FIZ Karlsruhe - Leibniz Institute for Information Infrastructure; Dr.  Heike Fliegl related participant project is FIZ Karlsruhe - Leibniz Institute for Information Infrastructure; Prof. Dr. Harald Sack related participant project is FIZ Karlsruhe - Leibniz Institute for Information Infrastructure; Ebrahim Norouzi has related Project FIZ Karlsruhe - Leibniz Institute for Information Infrastructure; Dr. Jörg Waitelonis has related Project FIZ Karlsruhe - Leibniz Institute for Information Infrastructure; Dr.  Heike Fliegl has related Project FIZ Karlsruhe - Leibniz Institute for Information Infrastructure; Prof. Dr. Harald Sack has related Project FIZ Karlsruhe - Leibniz Institute for Information Infrastructure; Ebrahim Norouzi has discipline FIZ Karlsruhe - Leibniz Institute for Information Infrastructure; Dr. Jörg Waitelonis has discipline FIZ Karlsruhe - Leibniz Institute for Information Infrastructure; Dr.  Heike Fliegl has discipline FIZ Karlsruhe - Leibniz Institute for Information Infrastructure; Prof. Dr. Harald Sack has discipline FIZ Karlsruhe - Leibniz Institute for Information Infrastructure; Ebrahim Norouzi has parent organisation  FIZ Karlsruhe - Leibniz Institute for Information Infrastructure; Dr. Jörg Waitelonis has parent organisation  FIZ Karlsruhe - Leibniz Institute for Information Infrastructure; Dr.  Heike Fliegl has parent organisation  FIZ Karlsruhe - Leibniz Institute for Information Infrastructure; Prof. Dr. Harald Sack has parent organisation  FIZ Karlsruhe - Leibniz Institute for Information Infrastructure; Ebrahim Norouzi has related task area FIZ Karlsruhe - Leibniz Institute for Information Infrastructure; Dr. Jörg Waitelonis has related task area FIZ Karlsruhe - Leibniz Institute for Information Infrastructure; Dr.  Heike Fliegl has related task area FIZ Karlsruhe - Leibniz Institute for Information Infrastructure; Prof. Dr. Harald Sack has related task area FIZ Karlsruhe - Leibniz Institute for Information Infrastructure; Ebrahim Norouzi has documentation FIZ Karlsruhe - Leibniz Institute for Information Infrastructure; Dr. Jörg Waitelonis has documentation FIZ Karlsruhe - Leibniz Institute for Information Infrastructure; Dr.  Heike Fliegl has documentation FIZ Karlsruhe - Leibniz Institute for Information Infrastructure; Prof. Dr. Harald Sack has documentation FIZ Karlsruhe - Leibniz Institute for Information Infrastructure; Ebrahim Norouzi has description FIZ Karlsruhe - Leibniz Institute for Information Infrastructure; Dr. Jörg Waitelonis has description FIZ Karlsruhe - Leibniz Institute for Information Infrastructure; Dr.  Heike Fliegl has description FIZ Karlsruhe - Leibniz Institute for Information Infrastructure; Prof. Dr. Harald Sack has description FIZ Karlsruhe - Leibniz Institute for Information Infrastructure; Ebrahim Norouzi has  description FIZ Karlsruhe - Leibniz Institute for Information Infrastructure; Dr. Jörg Waitelonis has  description FIZ Karlsruhe - Leibniz Institute for Information Infrastructure; Dr.  Heike Fliegl has  description FIZ Karlsruhe - Leibniz Institute for Information Infrastructure; Prof. Dr. Harald Sack has  description FIZ Karlsruhe - Leibniz Institute for Information Infrastructure; Mirza Mohtashim Alam has work package FIZ Karlsruhe - Leibniz Institute for Information Infrastructure; Ebrahim Norouzi has expertise in Information Service Engineering; Ebrahim Norouzi has expertise in Materials Informatic; Mirza Mohtashim Alam has expertise in FIZ Karlsruhe - Leibniz Institute for Information Infrastructure; Mirza Mohtashim Alam has funding project  FIZ Karlsruhe - Leibniz Institute for Information Infrastructure; Mirza Mohtashim Alam related participant project is FIZ Karlsruhe - Leibniz Institute for Information Infrastructure; Mirza Mohtashim Alam has related Project FIZ Karlsruhe - Leibniz Institute for Information Infrastructure; Mirza Mohtashim Alam has discipline FIZ Karlsruhe - Leibniz Institute for Information Infrastructure; Mirza Mohtashim Alam has parent organisation  FIZ Karlsruhe - Leibniz Institute for Information Infrastructure; Mirza Mohtashim Alam has related task area FIZ Karlsruhe - Leibniz Institute for Information Infrastructure; Mirza Mohtashim Alam has documentation FIZ Karlsruhe - Leibniz Institute for Information Infrastructure; Mirza Mohtashim Alam has description FIZ Karlsruhe - Leibniz Institute for Information Infrastructure; Mirza Mohtashim Alam has  description FIZ Karlsruhe - Leibniz Institute for Information Infrastructure; PD Dr. Steffen Brinckmann has work package Forschungszentrum Jülich; Dr.  Volker Hofmann has work package Forschungszentrum Jülich; Dr.-Ing Abril Azocar Guzman has work package Forschungszentrum Jülich; Prof. Dr. Ruth Schwaiger has work package Forschungszentrum Jülich; Said Fathalla has work package Forschungszentrum Jülich; Dr.-Ing. Hanna Tsybenko has work package Forschungszentrum Jülich; Prof. Dr. Stefan Sandfeld has work package Forschungszentrum Jülich; Ahmad Zainul Ihsan has expertise in Materials Data Science and Informatics; PD Dr. Steffen Brinckmann has expertise in Forschungszentrum Jülich; Dr.  Volker Hofmann has expertise in Forschungszentrum Jülich; Dr.-Ing Abril Azocar Guzman has expertise in Forschungszentrum Jülich; Prof. Dr. Ruth Schwaiger has expertise in Forschungszentrum Jülich; Said Fathalla has expertise in Forschungszentrum Jülich; Dr.-Ing. Hanna Tsybenko has expertise in Forschungszentrum Jülich; Prof. Dr. Stefan Sandfeld has expertise in Forschungszentrum Jülich; PD Dr. Steffen Brinckmann has funding project  Forschungszentrum Jülich; Dr.  Volker Hofmann has funding project  Forschungszentrum Jülich; Dr.-Ing Abril Azocar Guzman has funding project  Forschungszentrum Jülich; Prof. Dr. Ruth Schwaiger has funding project  Forschungszentrum Jülich; Said Fathalla has funding project  Forschungszentrum Jülich; Dr.-Ing. Hanna Tsybenko has funding project  Forschungszentrum Jülich; Prof. Dr. Stefan Sandfeld has funding project  Forschungszentrum Jülich; PD Dr. Steffen Brinckmann related participant project is Forschungszentrum Jülich; Dr.  Volker Hofmann related participant project is Forschungszentrum Jülich; Dr.-Ing Abril Azocar Guzman related participant project is Forschungszentrum Jülich; Prof. Dr. Ruth Schwaiger related participant project is Forschungszentrum Jülich; Said Fathalla related participant project is Forschungszentrum Jülich; Dr.-Ing. Hanna Tsybenko related participant project is Forschungszentrum Jülich; Prof. Dr. Stefan Sandfeld related participant project is Forschungszentrum Jülich; PD Dr. Steffen Brinckmann has related Project Forschungszentrum Jülich; Dr.  Volker Hofmann has related Project Forschungszentrum Jülich; Dr.-Ing Abril Azocar Guzman has related Project Forschungszentrum Jülich; Prof. Dr. Ruth Schwaiger has related Project Forschungszentrum Jülich; Said Fathalla has related Project Forschungszentrum Jülich; Dr.-Ing. Hanna Tsybenko has related Project Forschungszentrum Jülich; Prof. Dr. Stefan Sandfeld has related Project Forschungszentrum Jülich; PD Dr. Steffen Brinckmann has discipline Forschungszentrum Jülich; Dr.  Volker Hofmann has discipline Forschungszentrum Jülich; Dr.-Ing Abril Azocar Guzman has discipline Forschungszentrum Jülich; Prof. Dr. Ruth Schwaiger has discipline Forschungszentrum Jülich; Said Fathalla has discipline Forschungszentrum Jülich; Dr.-Ing. Hanna Tsybenko has discipline Forschungszentrum Jülich; Prof. Dr. Stefan Sandfeld has discipline Forschungszentrum Jülich; PD Dr. Steffen Brinckmann has parent organisation  Forschungszentrum Jülich; Dr.  Volker Hofmann has parent organisation  Forschungszentrum Jülich; Dr.-Ing Abril Azocar Guzman has parent organisation  Forschungszentrum Jülich; Prof. Dr. Ruth Schwaiger has parent organisation  Forschungszentrum Jülich; Said Fathalla has parent organisation  Forschungszentrum Jülich; Dr.-Ing. Hanna Tsybenko has parent organisation  Forschungszentrum Jülich; Prof. Dr. Stefan Sandfeld has parent organisation  Forschungszentrum Jülich; PD Dr. Steffen Brinckmann has related task area Forschungszentrum Jülich; Dr.  Volker Hofmann has related task area Forschungszentrum Jülich; Dr.-Ing Abril Azocar Guzman has related task area Forschungszentrum Jülich; Prof. Dr. Ruth Schwaiger has related task area Forschungszentrum Jülich; Said Fathalla has related task area Forschungszentrum Jülich; Dr.-Ing. Hanna Tsybenko has related task area Forschungszentrum Jülich; Prof. Dr. Stefan Sandfeld has related task area Forschungszentrum Jülich; PD Dr. Steffen Brinckmann has documentation Forschungszentrum Jülich; Dr.  Volker Hofmann has documentation Forschungszentrum Jülich; Dr.-Ing Abril Azocar Guzman has documentation Forschungszentrum Jülich; Prof. Dr. Ruth Schwaiger has documentation Forschungszentrum Jülich; Said Fathalla has documentation Forschungszentrum Jülich; Dr.-Ing. Hanna Tsybenko has documentation Forschungszentrum Jülich; Prof. Dr. Stefan Sandfeld has documentation Forschungszentrum Jülich; PD Dr. Steffen Brinckmann has description Forschungszentrum Jülich; Dr.  Volker Hofmann has description Forschungszentrum Jülich; Dr.-Ing Abril Azocar Guzman has description Forschungszentrum Jülich; Prof. Dr. Ruth Schwaiger has description Forschungszentrum Jülich; Said Fathalla has description Forschungszentrum Jülich; Dr.-Ing. Hanna Tsybenko has description Forschungszentrum Jülich; Prof. Dr. Stefan Sandfeld has description Forschungszentrum Jülich; PD Dr. Steffen Brinckmann has  description Forschungszentrum Jülich; Dr.  Volker Hofmann has  description Forschungszentrum Jülich; Dr.-Ing Abril Azocar Guzman has  description Forschungszentrum Jülich; Prof. Dr. Ruth Schwaiger has  description Forschungszentrum Jülich; Said Fathalla has  description Forschungszentrum Jülich; Dr.-Ing. Hanna Tsybenko has  description Forschungszentrum Jülich; Prof. Dr. Stefan Sandfeld has  description Forschungszentrum Jülich; Phonon database at Kyoto university has description \"It’s getting to be a mainstream idea collecting a big set of ab-initio calculations and analyzing them by informatics approach. For scientific purpose, we plan to do it for phonon properties. As an attempt, we have run a set of ab-initio phonon calculations and left the raw data on this static web site. The aim of this web site is just leaving the data to distribute.\"\n",
      "No. 3 answer:  Researchers that work in the group with Ebrahim Norouzi are: Dr.  Jörg Waitelonis, Dr.  Heike Fliegl, and Prof. Dr. Harald Sack.\n",
      "No. 4 question: who is the email address of \"ParaView\"?\n",
      "No. 4 context: ParaView has website https://www.paraview.org/; ParaView has contact point support@kitware.com; ParaView has repository https://gitlab.kitware.com/paraview/paraview; ParaView has  description \"ParaView is an open-source, multi-platform data analysis and visualization application based on Visualization Toolkit (VTK).\"; dateCreated has comment \"The date on which the CreativeWork was created or the item was added to a DataFeed.\"; dateCreated has domain resource; data portal has comment \"An online platform that provides access to data collections and datasets.\"; dataset has comment \"A dataset is associated with a structured information about a resource.\"; about material has domain dataset; has creator has domain dataset\n",
      "No. 4 answer:  ParaView; Email: support@kitware.com\n",
      "No. 5 question: What are the affilliations of Volker Hofmann?\n",
      "No. 5 context: Dr. Tilmann Hickel has affiliation with Max-Planck-Institut für Eisenforschung; Dr. Tilmann Hickel has affiliation with Bundesanstalt für Materialforschung und -prüfung; PD Dr.  Franz  Roters has affiliation with Max-Planck-Institut für Eisenforschung; Prof. Dr. Erik Bitzek has affiliation with Max-Planck-Institut für Eisenforschung; Prof. Dr.  Jörg Neugebauer has affiliation with Max-Planck-Institut für Eisenforschung; Dr Sarath Menon has affiliation with Max-Planck-Institut für Eisenforschung; PD Dr.  Franz  Roters has curation status Max-Planck-Institut für Eisenforschung; Prof. Dr. Erik Bitzek has curation status Max-Planck-Institut für Eisenforschung; Prof. Dr.  Jörg Neugebauer has curation status Max-Planck-Institut für Eisenforschung; Dr Sarath Menon has curation status Max-Planck-Institut für Eisenforschung; PD Dr.  Franz  Roters has parent organisation  Max-Planck-Institut für Eisenforschung; Prof. Dr. Erik Bitzek has parent organisation  Max-Planck-Institut für Eisenforschung; Prof. Dr.  Jörg Neugebauer has parent organisation  Max-Planck-Institut für Eisenforschung; Dr Sarath Menon has parent organisation  Max-Planck-Institut für Eisenforschung; PD Dr.  Franz  Roters has citation Max-Planck-Institut für Eisenforschung; Prof. Dr. Erik Bitzek has citation Max-Planck-Institut für Eisenforschung; Prof. Dr.  Jörg Neugebauer has citation Max-Planck-Institut für Eisenforschung; Dr Sarath Menon has citation Max-Planck-Institut für Eisenforschung; PD Dr.  Franz  Roters has documentation Max-Planck-Institut für Eisenforschung; Prof. Dr. Erik Bitzek has documentation Max-Planck-Institut für Eisenforschung; Prof. Dr.  Jörg Neugebauer has documentation Max-Planck-Institut für Eisenforschung; Dr Sarath Menon has documentation Max-Planck-Institut für Eisenforschung; PD Dr.  Franz  Roters related participant project is Max-Planck-Institut für Eisenforschung; Prof. Dr. Erik Bitzek related participant project is Max-Planck-Institut für Eisenforschung; Prof. Dr.  Jörg Neugebauer related participant project is Max-Planck-Institut für Eisenforschung; Dr Sarath Menon related participant project is Max-Planck-Institut für Eisenforschung; PD Dr.  Franz  Roters has elucidation Max-Planck-Institut für Eisenforschung; Prof. Dr. Erik Bitzek has elucidation Max-Planck-Institut für Eisenforschung; Prof. Dr.  Jörg Neugebauer has elucidation Max-Planck-Institut für Eisenforschung; Dr Sarath Menon has elucidation Max-Planck-Institut für Eisenforschung; PD Dr.  Franz  Roters has definition Max-Planck-Institut für Eisenforschung; Prof. Dr. Erik Bitzek has definition Max-Planck-Institut für Eisenforschung; Prof. Dr.  Jörg Neugebauer has definition Max-Planck-Institut für Eisenforschung; Dr Sarath Menon has definition Max-Planck-Institut für Eisenforschung; PD Dr.  Franz  Roters has definition Max-Planck-Institut für Eisenforschung; Prof. Dr. Erik Bitzek has definition Max-Planck-Institut für Eisenforschung; Prof. Dr.  Jörg Neugebauer has definition Max-Planck-Institut für Eisenforschung; Dr Sarath Menon has definition Max-Planck-Institut für Eisenforschung; PD Dr.  Franz  Roters has description Max-Planck-Institut für Eisenforschung; Prof. Dr. Erik Bitzek has description Max-Planck-Institut für Eisenforschung; Prof. Dr.  Jörg Neugebauer has description Max-Planck-Institut für Eisenforschung; Dr Sarath Menon has description Max-Planck-Institut für Eisenforschung; PD Dr.  Franz  Roters has  description Max-Planck-Institut für Eisenforschung; Prof. Dr. Erik Bitzek has  description Max-Planck-Institut für Eisenforschung; Prof. Dr.  Jörg Neugebauer has  description Max-Planck-Institut für Eisenforschung; Dr Sarath Menon has  description Max-Planck-Institut für Eisenforschung; Dr.  Volker Hofmann has affiliation with Forschungszentrum Jülich; PD Dr. Steffen Brinckmann has affiliation with Forschungszentrum Jülich; Dr.-Ing Abril Azocar Guzman has affiliation with Forschungszentrum Jülich; Prof. Dr. Ruth Schwaiger has affiliation with Forschungszentrum Jülich; Said Fathalla has affiliation with Forschungszentrum Jülich; Ahmad Zainul Ihsan has affiliation with Forschungszentrum Jülich; Dr.-Ing. Hanna Tsybenko has affiliation with Forschungszentrum Jülich; Prof. Dr. Stefan Sandfeld has affiliation with Forschungszentrum Jülich; PD Dr. Steffen Brinckmann has curation status Forschungszentrum Jülich; Dr.-Ing Abril Azocar Guzman has curation status Forschungszentrum Jülich; Prof. Dr. Ruth Schwaiger has curation status Forschungszentrum Jülich; Said Fathalla has curation status Forschungszentrum Jülich; Ahmad Zainul Ihsan has curation status Forschungszentrum Jülich; Dr.-Ing. Hanna Tsybenko has curation status Forschungszentrum Jülich; Prof. Dr. Stefan Sandfeld has curation status Forschungszentrum Jülich; PD Dr. Steffen Brinckmann has parent organisation  Forschungszentrum Jülich; Dr.-Ing Abril Azocar Guzman has parent organisation  Forschungszentrum Jülich; Prof. Dr. Ruth Schwaiger has parent organisation  Forschungszentrum Jülich; Said Fathalla has parent organisation  Forschungszentrum Jülich; Ahmad Zainul Ihsan has parent organisation  Forschungszentrum Jülich; Dr.-Ing. Hanna Tsybenko has parent organisation  Forschungszentrum Jülich; Prof. Dr. Stefan Sandfeld has parent organisation  Forschungszentrum Jülich; PD Dr. Steffen Brinckmann has citation Forschungszentrum Jülich; Dr.-Ing Abril Azocar Guzman has citation Forschungszentrum Jülich; Prof. Dr. Ruth Schwaiger has citation Forschungszentrum Jülich; Said Fathalla has citation Forschungszentrum Jülich; Ahmad Zainul Ihsan has citation Forschungszentrum Jülich; Dr.-Ing. Hanna Tsybenko has citation Forschungszentrum Jülich; Prof. Dr. Stefan Sandfeld has citation Forschungszentrum Jülich; PD Dr. Steffen Brinckmann has documentation Forschungszentrum Jülich; Dr.-Ing Abril Azocar Guzman has documentation Forschungszentrum Jülich; Prof. Dr. Ruth Schwaiger has documentation Forschungszentrum Jülich; Said Fathalla has documentation Forschungszentrum Jülich; Ahmad Zainul Ihsan has documentation Forschungszentrum Jülich; Dr.-Ing. Hanna Tsybenko has documentation Forschungszentrum Jülich; Prof. Dr. Stefan Sandfeld has documentation Forschungszentrum Jülich; PD Dr. Steffen Brinckmann related participant project is Forschungszentrum Jülich; Dr.-Ing Abril Azocar Guzman related participant project is Forschungszentrum Jülich; Prof. Dr. Ruth Schwaiger related participant project is Forschungszentrum Jülich; Said Fathalla related participant project is Forschungszentrum Jülich; Ahmad Zainul Ihsan related participant project is Forschungszentrum Jülich; Dr.-Ing. Hanna Tsybenko related participant project is Forschungszentrum Jülich; Prof. Dr. Stefan Sandfeld related participant project is Forschungszentrum Jülich; PD Dr. Steffen Brinckmann has elucidation Forschungszentrum Jülich; Dr.-Ing Abril Azocar Guzman has elucidation Forschungszentrum Jülich; Prof. Dr. Ruth Schwaiger has elucidation Forschungszentrum Jülich; Said Fathalla has elucidation Forschungszentrum Jülich; Ahmad Zainul Ihsan has elucidation Forschungszentrum Jülich; Dr.-Ing. Hanna Tsybenko has elucidation Forschungszentrum Jülich; Prof. Dr. Stefan Sandfeld has elucidation Forschungszentrum Jülich; PD Dr. Steffen Brinckmann has definition Forschungszentrum Jülich; Dr.-Ing Abril Azocar Guzman has definition Forschungszentrum Jülich; Prof. Dr. Ruth Schwaiger has definition Forschungszentrum Jülich; Said Fathalla has definition Forschungszentrum Jülich; Ahmad Zainul Ihsan has definition Forschungszentrum Jülich; Dr.-Ing. Hanna Tsybenko has definition Forschungszentrum Jülich; Prof. Dr. Stefan Sandfeld has definition Forschungszentrum Jülich; PD Dr. Steffen Brinckmann has definition Forschungszentrum Jülich; Dr.-Ing Abril Azocar Guzman has definition Forschungszentrum Jülich; Prof. Dr. Ruth Schwaiger has definition Forschungszentrum Jülich; Said Fathalla has definition Forschungszentrum Jülich; Ahmad Zainul Ihsan has definition Forschungszentrum Jülich; Dr.-Ing. Hanna Tsybenko has definition Forschungszentrum Jülich; Prof. Dr. Stefan Sandfeld has definition Forschungszentrum Jülich; PD Dr. Steffen Brinckmann has description Forschungszentrum Jülich; Dr.-Ing Abril Azocar Guzman has description Forschungszentrum Jülich; Prof. Dr. Ruth Schwaiger has description Forschungszentrum Jülich; Said Fathalla has description Forschungszentrum Jülich; Ahmad Zainul Ihsan has description Forschungszentrum Jülich; Dr.-Ing. Hanna Tsybenko has description Forschungszentrum Jülich; Prof. Dr. Stefan Sandfeld has description Forschungszentrum Jülich; PD Dr. Steffen Brinckmann has  description Forschungszentrum Jülich; Dr.-Ing Abril Azocar Guzman has  description Forschungszentrum Jülich; Prof. Dr. Ruth Schwaiger has  description Forschungszentrum Jülich; Said Fathalla has  description Forschungszentrum Jülich; Ahmad Zainul Ihsan has  description Forschungszentrum Jülich; Dr.-Ing. Hanna Tsybenko has  description Forschungszentrum Jülich; Prof. Dr. Stefan Sandfeld has  description Forschungszentrum Jülich; Niklas Siemer has affiliation with Max-Planck-Institut für Eisenforschung GmbH; Prof. Dr.  Jörg Neugebauer has affiliation with Max-Planck-Institut für Eisenforschung GmbH; Prof. Dr.  Jörg Neugebauer has curation status Max-Planck-Institut für Eisenforschung GmbH; Prof. Dr.  Jörg Neugebauer has parent organisation  Max-Planck-Institut für Eisenforschung GmbH; Prof. Dr.  Jörg Neugebauer has citation Max-Planck-Institut für Eisenforschung GmbH; Prof. Dr.  Jörg Neugebauer has documentation Max-Planck-Institut für Eisenforschung GmbH; Prof. Dr.  Jörg Neugebauer related participant project is Max-Planck-Institut für Eisenforschung GmbH; Prof. Dr.  Jörg Neugebauer has elucidation Max-Planck-Institut für Eisenforschung GmbH; Prof. Dr.  Jörg Neugebauer has definition Max-Planck-Institut für Eisenforschung GmbH; Prof. Dr.  Jörg Neugebauer has definition Max-Planck-Institut für Eisenforschung GmbH; Prof. Dr.  Jörg Neugebauer has description Max-Planck-Institut für Eisenforschung GmbH; Prof. Dr.  Jörg Neugebauer has  description Max-Planck-Institut für Eisenforschung GmbH\n",
      "No. 5 answer: Answer: Forschungszentrum Jülich.\n",
      "No. 6 question: What is \"Molecular Dynamics\" Software? List the programming language, documentation page, repository, and license information.\n",
      "No. 6 context: OpenBIS has  description \"The openBIS platform has three primary functionalities: 1. Inventory management of laboratory samples, materials, protocols, equipment. 2. Laboratory notebook, to document lab experiments. 3. Data management, to store all data related to lab experiments (raw, processed, analysed data, scripts, Jupyter notebooks, etc.).\"; Visual Molecular Dynamics has documentation https://www.ks.uiuc.edu/Research/vmd/current/ug/; Visual Molecular Dynamics has  description \"molecular modelling and visualization computer program\"; GROMACS has citation * GROMACS: A message-passing parallel molecular dynamics implementation_x000D_\n",
      "  H.J.C. Berendsen, D. van der Spoel and R. van Drunen_x000D_\n",
      "  Comp. Phys. Comm. 91, 43-56 (1995)_x000D_\n",
      "  DOI: https://doi.org/10.1016/0010-4655(95)00042-E_x000D_\n",
      " _x000D_\n",
      "* GROMACS 4: Algorithms for highly efficient, load-balanced, and scalable_x000D_\n",
      "  molecular simulation_x000D_\n",
      "  B. Hess and C. Kutzner and D. van der Spoel and E. Lindahl_x000D_\n",
      "  J. Chem. Theory Comput. 4 (2008) pp. 435-447_x000D_\n",
      "  DOI: https://doi.org/10.1021/ct700301q_x000D_\n",
      "_x000D_\n",
      "* GROMACS 4.5: a high-throughput and highly parallel open source_x000D_\n",
      "  molecular simulation toolkit_x000D_\n",
      "  Sander Pronk, Szilárd Páll, Roland Schulz, Per Larsson, Pär Bjelkmar,_x000D_\n",
      "  Rossen Apostolov, Michael R. Shirts, Jeremy C. Smith, Peter M. Kasson,_x000D_\n",
      "  David van der Spoel, Berk Hess, Erik Lindahl._x000D_\n",
      "  Bioinformatics 29 (2013) pp. 845-54_x000D_\n",
      "  DOI: https://doi.org/10.1093/bioinformatics/btt055_x000D_\n",
      "_x000D_\n",
      "* Tackling Exascale Software Challenges in Molecular Dynamics Simulations_x000D_\n",
      "  with GROMACS_x000D_\n",
      "  Szilárd Páll, Mark J. Abraham, Carsten Kutzner, Berk Hess, Erik Lindahl_x000D_\n",
      "  In S. Markidis & E. Laure (Eds.), Solving Software Challenges for Exascale,_x000D_\n",
      "  Lecture Notes for Computer Science, 8759 (2015) pp. 3–27_x000D_\n",
      "  DOI: https://doi.org/10.1007/978-3-319-15976-8_1_x000D_\n",
      "_x000D_\n",
      "* GROMACS: High performance molecular simulations through multi-level parallelism from laptops to supercomputers_x000D_\n",
      "  M. J. Abraham, T. Murtola, R. Schulz, S. Páll, J. C. Smith, B. Hess, E. Lindahl,_x000D_\n",
      "  SoftwareX, 1, (2015), 19-25_x000D_\n",
      "  DOI: https://doi.org/10.1016/j.softx.2015.06.001; PubChem has citation Kim S. Exploring Chemical Information in PubChem. Curr. Protoc.; 2021 Aug 9; 1(8):e217. doi: https://doi.org/10.1002/cpz1.217.; PubChem has description \"PubChem is the world's largest collection of freely accessible chemical information. Search chemicals by name, molecular formula, structure, and other identifiers. Find chemical and physical properties, biological activities, safety and toxicity information, patents, literature citations and more.\"; Computational Materials Repository (CMR) has related resource ASE; Computational Materials Repository (CMR) has description \"Each CMR project consists of an ASE-database and a project page describing the data and showing examples of how to work with the data using Python and ASE.\"\n",
      "No. 6 answer:  Context: (1) GROMACS provides several papers including those (2008) by B. Hess, C. Kutzner, D. van der Spoel, and \"Algorithms for ... molecular simulation\". (2) PubChem citation from 2021 refers to reviewing chemical information in PubChem. (3) A description reiterated that PubChem is a vast chemical information repository. Note: Inventory, lab notebooks, data mentioned earlier; CMR linked with ASE for Python materials work.\n",
      "\n",
      " Answer: \"Molecular Dynamics\" software uses the programming language (no programming language mentioned), has no license assessment mentioned, and Adheres to an openBIS platform for inventory/data management, a Visual Molecular Dynamics (VMD) \"**documentation page**,\" GROMACS provides molecular simulation procedures through several papers, and it is related to the Computational Materials Repository (CMR); no information on the programming language, license, or detailed documentation as noted above.\n",
      "No. 7 question: What are pre- and post-processing tools for MD simulations?\n",
      "No. 7 context: AML has  description \"Python package to automatically build the reference set for the training of Neural Network Potentials (NNPs), and eventually other machine-learned potentials, in an automated, data-driven fashion.\"; Crystallography Open Database (COD) has description \"Open-access collection of crystal structures of organic, inorganic, metal-organic compounds and minerals, excluding biopolymers.\"; MDTraj has  description \"Read, write and analyze MD trajectories with only a few lines of Python code.\"; OVITO basic has documentation https://www.ovito.org/docs/current/; OVITO basic has operating system  Linux; OVITO basic has operating system  Mac OS; OVITO basic has operating system  Microsoft Windows; OVITO basic has  description \"visualization and analysis for data generated in MD, atomistic Monte-Carlo and other particle-based simulations\"\n",
      "No. 7 answer: AML: A Python package to create reference sets for training Neural Network Potentials, CIF file input\n",
      "OVITO: Visualization and analysis tool for data from MD simulations, Monte-Carlo simulations, etc. \n",
      "OVITO OS: Available on Linux, macOS, and Microsoft Windows.\n",
      "No. 8 question: What are some workflow environments for computational materials science?\n",
      "No. 8 context: Atomistictools has related resource Pyiron; Pyiron has  description \"pyiron is an integrated development environment for implementing, testing, and running simulations in computational materials science.\"; Simmate has  description \"The Simulated Materials Ecosystem (Simmate) is a toolbox and framework for computational materials research. It lets you explore various crystal databases, predict new materials, and quickly calculate properties.\"; matminer has  description \"Python library for data mining the properties of materials.\"\n",
      "No. 8 answer: Pyiron, Simmate, matminer\n",
      "No. 9 question: How should I cite pyiron?\n",
      "No. 9 context: Pyiron has  description \"pyiron is an integrated development environment for implementing, testing, and running simulations in computational materials science.\"; Pyiron has citation title = {pyiron: An integrated development environment for computational materials science},_x000D_\n",
      "  journal = {Computational Materials Science},_x000D_\n",
      "  volume = {163},_x000D_\n",
      "  pages = {24 - 36},_x000D_\n",
      "  year = {2019},_x000D_\n",
      "  issn = {0927-0256},_x000D_\n",
      "  doi = {https://doi.org/10.1016/j.commatsci.2018.07.043},_x000D_\n",
      "  url = {http://www.sciencedirect.com/science/article/pii/S0927025618304786},_x000D_\n",
      "  author = {Jan Janssen and Sudarsan Surendralal and Yury Lysogorskiy and Mira Todorova and Tilmann Hickel and Ralf Drautz and Jörg Neugebauer},_x000D_\n",
      "  keywords = {Modelling workflow, Integrated development environment, Complex simulation protocols},; APT analysis using CompositionSpace and pyiron has  description \"Workflow to analyse APT data using CompositionSpace jobs implemented in pyiron\"; Pyrho has  description \"Pyrho is a real-space DFT code written in Python. It is not built to be super-fast or scalable- instead, it is built to be super-readable.  There's a tutorial notebook (tutorial.ipynb) to guide you through the process of building Pyrho from scratch (starting with the 1D Schroedinger equation). This notebook is based on interactive lectures given by Prof. Joerg Neugebauer.\"\n",
      "No. 9 answer:  Answer: Use \"pyiron: An integrated development environment for computational materials science\" citation with authors - Jan Janssen, Sudarsan Surendralal, Yury Lysogorskiy, Mira Todorova, Tilmann Hickel, Ralf Drautz, Jörg Neugebauer, and 2019 publication in Computational Materials Science journal.\n",
      "No. 10 question: Where can I find a list of interatomic potentials?\n",
      "No. 10 context: Image based prediction of the heat conduction tensor has  description \"An open-source code providing a graphical user interface to predict the effective heat conductivity of microstructures and requires only the image data as input. The deployed methods are proposed and validated in the related paper, doi: 10.3390/mca24020057.\"; Image based prediction of the heat conduction tensor has citation Data-Driven Microstructure Property Relations; Interatomic potentials repository (NIST) has description \"This repository provides a source for interatomic potentials (force fields), related files, and evaluation tools to help researchers obtain interatomic models and judge their quality and applicability. \"; Interatomic potentials repository (NIST) has citation C.A. Becker, F. Tavazza, Z.T. Trautt, and R.A. Buarque de Macedoc (2013), \"Considerations for choosing and using force fields and interatomic potentials in materials science and engineering,\" Current Opinion in Solid State and Materials Science, 17, 277-283. DOI: 10.1016/j.cossms.2013.10.001 L.M. Hale, Z.T. Trautt, and C.A. Becker (2018), \"Evaluating variability with atomistic simulations: the effect of potential and calculation methodology on the modeling of lattice and elastic constants,\" Modelling and Simulation in Materials Science and Engineering, 26, 055003. DOI: 10.1088/1361-651X/aabc05; Interatomic potentials repository (NIST) has citation C.A. Becker, F. Tavazza, Z.T. Trautt, and R.A. Buarque de Macedoc (2013), \"Considerations for choosing and using force fields and interatomic potentials in materials science and engineering,\" Current Opinion in Solid State and Materials Science, 17, 277-283. DOI: 10.1016/j.cossms.2013.10.001 L.M. Hale, Z.T. Trautt, and C.A. Becker (2018), \"Evaluating variability with atomistic simulations: the effect of potential and calculation methodology on the modeling of lattice and elastic constants,\" Modelling and Simulation in Materials Science and Engineering, 26, 055003. DOI: 10.1088/1361-651X/aabc05; Workshop: Workflows for atomistic simulations has description \"Workshop lectures and videos from fitting of interatomic potentials to validating them.\"\n",
      "No. 10 answer: A repository by NIST providing interatomic potentials.\n",
      "No. 11 question: What are python libraries used for calculating local atomic structural environment?\n",
      "No. 11 context: Pyscal has repository https://github.com/pyscal/pyscal; Pyscal uses method molecular dynamics; Pyscal uses method atomistic simulations; Pyscal has  description \"Python library written in C++ for calculation of local atomic structural environment\"; Materials Commons has repository https://github.com/materials-commons/materialscommons.org; Materials Commons has description \"A site for Materials Scientists to collaborate, store and publish research. The Materials Commons is supported by the U.S. Department of Energy, Office of Basic Energy Sciences, Division of Materials Sciences and Engineering.\"; Data Processing for Engineers and Scientists required tool python; Selected Chapters in Data Processing: Microstructure Analysis and Synthesis required tool python; Information Service Engineering required tool python; icet has repository https://gitlab.com/materials-modeling/icet; icet has  description \"icet is a python tool for the construction and sampling of alloy cluster expansions.\"; Materials Cloud has repository https://github.com/materialscloud-org; Materials Cloud Youtube channel required tool Materials Cloud; Materials Cloud has description \"Materials Cloud is built to enable the seamless sharing and dissemination of resources in computational materials science, offering educational, research, and archiving tools; simulation software and services; and curated and raw data. These underpin published results and empower data-based discovery, compliant with data management plans and the FAIR principles.\"; matminer has repository https://github.com/hackingmaterials/matminer; matminer has  description \"Python library for data mining the properties of materials.\"\n",
      "No. 11 answer:  Answer: Pyscal\n",
      "No. 12 question: What are the electronic lab notebooks available?\n",
      "No. 12 context: Jupyter notebooks has type object type; Datasets for the analysis of dislocations at grain boundaries and during vein formation in cyclically deformed Ni micropillars has object type Jupyter notebooks; Atomic Simulation Environment has type software; Atomic Simulation Environment has type processing software; Atomic Simulation Environment has type research software; Atomic Simulation Environment has type visualization software; Atomic Simulation Environment uses method atomistic simulations; Atomic Simulation Environment has  description \"set of tools and Python modules for setting up, manipulating, running, visualizing and analyzing atomistic simulations\"; electronic lab notebook has type nan; Experimental Workflow has type nan; Laboratory Instrument has type nan\n",
      "No. 12 answer:  Jupyter notebooks, Atomic Simulation Environment.\n",
      "No. 13 question: What are the software for Molecular Dynamics (MD)?\n",
      "No. 13 context: Crystallography Open Database (COD) has website http://www.crystallography.net/cod/; Crystallography Open Database (COD) has description \"Open-access collection of crystal structures of organic, inorganic, metal-organic compounds and minerals, excluding biopolymers.\"; dynasor has website https://dynasor.materialsmodeling.org/; dynasor has  description \"dynasor is a simple tool for calculating total and partial dynamical structure factors as well as current correlation functions from molecular dynamics (MD) simulations.\"; Visual Molecular Dynamics has operating system  Linux; Visual Molecular Dynamics has operating system  Mac OS; Visual Molecular Dynamics has operating system  Microsoft Windows; Visual Molecular Dynamics has website https://www.ks.uiuc.edu/Research/vmd/; Visual Molecular Dynamics has  description \"molecular modelling and visualization computer program\"; QuickFF has website https://molmod.github.io/QuickFF/; QuickFF has programming Language  python; QuickFF has  description \"Python package developed at the Center for Molecular Modeling (CMM) to quickly derive accurate force fields from ab initio calculations. \"; Yet another force field has website https://molmod.ugent.be/software/yaff; Yet another force field has programming Language  python; Yet another force field has programming Language  C; Yet another force field has  description \" pythonic force-field (FF) code used at the Center for Molecular Modeling (CMM) to test-drive new FF models\"\n",
      "No. 13 answer:  Answer: - Crystallography Open Database (COD) is an open-access database (http://www.crystallography.net/cod/) with a content focusing on crystal structures excluding biopolymers. - dynasor (https://dynasor.materialsmodeling.org/) enables calculating dynamical structure factors and current correlation functions in molecular dynamics simulations.  - Visual Molecular Dynamics (VMD) is a molecular modeling and visualization program (https://www.ks.uiuc.edu/Research/vmd/) compatible with Linux, Mac OS, and Microsoft Windows. - QuickFF (https://molmod.github.io/QuickFF/) is a Python package at the Center for Molecular Modeling (CMM) that efficiently generates accurate force fields from ab initio calculations. - Yet another force field designed in Python and C (https://molmod.ugent.be/software/yaff) at CMM for testing new FF models.\n",
      "No. 14 question: What are the ontologies in nanomaterials domain?\n",
      "No. 14 context: Materials And Molecules Basic Ontology (MAMBO) has description \"MAMBO (Materials And Molecules Basic Ontology) is a domain ontology for molecular materials. \"; Materials And Molecules Basic Ontology (MAMBO) has semantic expressivity nan; Materials Design Ontology (MDO) has description \"MDO is an ontology for materials design field, representing the domain knowledge specifically related to solid-state physics and computational materials science.\"; Materials Design Ontology (MDO) has semantic expressivity nan; MaterialsMine (MM) has description \"A materials ontology to support data publication involving nanomaterials and metamaterials.\"; MaterialsMine (MM) has semantic expressivity nan\n",
      "No. 14 answer:  Answer: MAMBO, MaterialsMine (MM) \n",
      "No. 15 question: What is DAMASK?\n",
      "No. 15 context: Elk has type software; Elk has type research software; Elk uses method Density functional theory; Elk has  description \"An all-electron full-potential linearised augmented-plane wave (LAPW) code with many advanced features. Written originally at Karl-Franzens-Universität Graz as a milestone of the EXCITING EU Research and Training Network, the code is designed to be as simple as possible so that new developments in the field of density functional theory (DFT) can be added quickly and reliably. \"; Novel Materials Discovery (NOMAD) has type data portal; Novel Materials Discovery (NOMAD) has description \"The Novel Materials Discovery (NOMAD) Laboratory maintains the largest worldwide repository for input and output files of all important computational materials science computer programs.\"; NOMAD has type funding project; Dusseldorf Advanced Material Simulation Kit has type software; Dusseldorf Advanced Material Simulation Kit has type research software; Dusseldorf Advanced Material Simulation Kit uses method crystal plasticity; Dusseldorf Advanced Material Simulation Kit has  description \"DAMASK is a unified multi-physics crystal plasticity simulation package. The solution of continuum mechanical boundary value problems requires a constitutive response that connects deformation and stress at each material point. This problem is solved in DAMASK on the basis of crystal plasticity using a variety of constitutive models and homogenization approaches. However, treating mechanics in isolation is no longer sufficient to study emergent advanced high-strength materials. In these materials, deformation happens interrelated with displacive phase transformation, significant heating, and potential damage evolution. Therefore, DAMASK is capable of handling multi-physics problems. Following a modular approach, additional field equations are solved in a fully coupled way using a staggered approach.\n",
      "\n",
      "\"\n",
      "No. 15 answer: A unified multi-physics crystal plasticity simulation package designed to handle multi-physics problems like deformation, transformation, heating, and damage evolution in advanced high-strength materials.\n",
      "No. 16 question: What are the data portals for materials science ontologies?\n",
      "No. 16 context: Development of coupled ontologies and workflows for thermochemical treatments has main task area  Ontologies for Materials Science; Alignment of application- and higher-level ontologies has main task area  Ontologies for Materials Science; Co-creation environment for experts has main task area  Ontologies for Materials Science; Adaptive automated characterization pipelines and meta data schemas for high throughput experiments has main task area  Ontologies for Materials Science; Method- and scale-bridging workflows and data structures for tomography has main task area  Ontologies for Materials Science; Unified ontology for matrix-inclusion microstructure and composites has main task area  Ontologies for Materials Science; Ontologies for defects in crystals has main task area  Ontologies for Materials Science; Ontologies for Materials Science has description \"This TA develops Ontologies and metadata schemes in close cooperation with the stakeholders, tailored to their respective needs.\"; Materials Design Ontology (MDO) has repository https://github.com/LiUSemWeb/Materials-Design-Ontology; Materials Design Ontology (MDO) has description \"MDO is an ontology for materials design field, representing the domain knowledge specifically related to solid-state physics and computational materials science.\"; MatPortal has website https://matportal.org/; MatPortal has description \"Ontology repository for materials science.\"; MaterialsMine (MM) has repository https://github.com/tetherless-world/materialsmine; MaterialsMine (MM) has description \"A materials ontology to support data publication involving nanomaterials and metamaterials.\"; Computational Material Sample Ontology has repository https://github.com/Materials-Data-Science-and-Informatics/cmso-ontology; Computational Material Sample Ontology has contact point Dr.-Ing Abril Azocar Guzman; Computational Material Sample Ontology has description \"CMSO is an ontology that aims to describe computational materials science samples (or structures), including crystalline defects.\"\n",
      "No. 16 answer:  The Materials Design Ontology:MDO has a repository at https://github.com/LiUSemWeb/Materials-Design-Ontology . The description of MDO is that it is an ontology for the materials design field, representing domain knowledge specific to solid-state physics and computational materials science. MatPortal has a repository at https://matportal.org/. The description of MatPortal indicates that it functions as an ontology repository for materials science. MaterialsMine (MM) has a repository at https://github.com/tetherless-world/materialsmine , with a description stating it is a materials ontology supporting data publication for nanomaterials and metamaterials.\n",
      "No. 17 question: What are the instruments for APT?\n",
      "No. 17 context: Crystallography Open Database (COD) has citation Gražulis, S., Daškevič, A., Merkys, A., Chateigner, D., Lutterotti, L., Quirós, M., Serebryanaya, N. R., Moeck, P., Downs, R. T. & LeBail, A. (2012). Crystallography Open Database (COD): an open-access collection of crystal structures and platform for world-wide collaboration. Nucleic Acids Research, 40, D420-D427. doi: 10.1093/nar/gkr900 (BibTeX, EndNote/Refer, plain text)\n",
      "\n",
      "Grazulis, S., Chateigner, D., Downs, R. T., Yokochi, A. T., Quiros, M., Lutterotti, L., Manakova, E., Butkus, J., Moeck, P. & Le Bail, A. (2009). Crystallography Open Database – an open-access collection of crystal structures. Journal of Applied Crystallography, 42, 726-729. doi: 10.1107/S0021889809016690 (BibTeX, EndNote/Refer, plain text); Crystallography Open Database (COD) has description \"Open-access collection of crystal structures of organic, inorganic, metal-organic compounds and minerals, excluding biopolymers.\"; APT analysis using CompositionSpace and pyiron has operating system  Unix; APT analysis using CompositionSpace and pyiron has operating system  Linux; APT analysis using CompositionSpace and pyiron has operating system  Mac OS; APT analysis using CompositionSpace and pyiron has  description \"Workflow to analyse APT data using CompositionSpace jobs implemented in pyiron\"; :n24fcd3fc8d9441f293ea115e3ab0e59bb27 has first element Instrument\n",
      "No. 17 answer: Answer: Instrument.\n",
      "No. 18 question: In which institution can I find tomography equipment?\n",
      "No. 18 context: nan\n",
      "An error occurred while processing the problem: can only concatenate str (not \"float\") to str\n",
      "No. 18 answer: Unable to get answer\n",
      "No. 19 question: What are the educational resources for Ontology?\n",
      "No. 19 context: Aditive Manufacturing Ontology (AMONTOLOGY) has description \"The AM ontology has been developed following two major milestones. The ontology developed within the first milestone includes AMProcessOntology, ModelOntology and AMOntology files. AMProcessOntology contains the set of entities used to capture knowledge about additive manufacturing processes. ModelOntology contains the set of entities used to capture knowledge about modeling concepts that represent (possibly) multi-physics multi-scale processes. AMOntology uses AMProcessOntology and ModelOntology files to describe entities that capture knowledge about characteristics of computational models for AM processes.\"; Ontologies for Materials Science has description \"This TA develops Ontologies and metadata schemes in close cooperation with the stakeholders, tailored to their respective needs.\"; Dr. Amir Laadhar has expertise in ontology matching; MatPortal has description \"Ontology repository for materials science.\"; The MatWerk ontology has  description \"The MatWerk ontology represents research data and related activities of the MSE community. A first version of the ontology will be simplified, focusing on (i) community structure: researchers, research projects, universities, and institutions; (ii) infrastructure: software, workflows, ontologies, schemas, APIs, instruments, facilities, educational resources; and (iii) data: repositories, databases, scientific publications, published datasets and reference data.\"\n",
      "No. 19 answer:  Ontologies, software, workflows, ontologies, schemas, APIs, instruments, facilities, educational resources.\n",
      "No. 20 question: What is the API of Materials Project?\n",
      "No. 20 context: Materials Cloud has repository https://github.com/materialscloud-org; Materials Cloud has website https://www.materialscloud.org/discover/mc3d/dashboard/ptable; Materials Cloud has description \"Materials Cloud is built to enable the seamless sharing and dissemination of resources in computational materials science, offering educational, research, and archiving tools; simulation software and services; and curated and raw data. These underpin published results and empower data-based discovery, compliant with data management plans and the FAIR principles.\"; Materials Platform for Data Science has website https://mpds.io/; Materials Platform for Data Science has description \"Online materials database (known as PAULING FILE project) with nearly 2 million entries: physical properties, crystal structures, phase diagrams, available via API, ready for modern data-intensive applications. The source of these entries are about 300,000 peer-reviewed publications in materials science, processed during the last 16 years by an international team of PhD editors. The results are presented online with a quick search interface. The basic access is provided for free.\"; Python Materials Genomics has repository https://github.com/materialsproject/pymatgen; Python Materials Genomics has website https://pymatgen.org/; Python Materials Genomics has  description \"materials analysis code that defines core object representations for structures and molecules with support for many electronic structure codes. It is currently the core analysis code powering the Materials Project.\"; HybriD³ materials database has website https://materials.hybrid3.duke.edu/; HybriD³ materials database has description \"The HybriD³ materials database provides a comprehensive collection of experimental and computational materials data for crystalline organic-inorganic compounds, predominantly based on the perovskite paradigm.\"\n",
      "No. 20 answer:  API. That way, you can get data without a manual search.\n",
      "No. 21 question: Which simulation software have a python API?\n",
      "No. 21 context: OPTIMADE has citation Andersen et al, OPTIMADE, an API for exchanging materials data, Sci. Data 8, 217 (2021) 10.1038/s41597-021-00974-z; software has definition source \"James Malone\"; software has definition source \"Modified in parts from https://en.wikipedia.org/wiki/Software\"; software has definition source \"Robert Stevens\"; OpenPathSampling has  description \"Python library to facilitate path sampling algorithms.\"; OpenPathSampling has citation David W.H. Swenson, Jan-Hendrik Prinz, Frank Noé, John D. Chodera, and Peter G. Bolhuis. “OpenPathSampling: A flexible, open framework for path sampling simulations. 1. Basics.” J. Chem. Theory Comput. 15, 813 (2019). https://doi.org/10.1021/acs.jctc.8b00626      David W.H. Swenson, Jan-Hendrik Prinz, Frank Noé, John D. Chodera, and Peter G. Bolhuis. “OpenPathSampling: A flexible, open framework for path sampling simulations. 2. Building and Customizing Path Ensembles and Sample Schemes.” J. Chem. Theory Comput. 15, 837 (2019). https://doi.org/10.1021/acs.jctc.8b00627 ; CompositionSpace has  description \"CompositionSpace is a python library for analysis of APT data. \"; CompositionSpace has documentation https://compositionspace.readthedocs.io/en/latest/; py4vasp has  description \"Python interface to extract data from VASP calculations\"\n",
      "No. 21 answer:  Answer: **OpenPathSampling**\n",
      "No. 22 question: What is the documentation of the \"MatDB Online\"?\n",
      "No. 22 context: MatDB Online has documentation https://publications.jrc.ec.europa.eu/repository/handle/JRC75978; MatDB Online has citation Austin T, Over H. MATDB ONLINE—A STANDARDS-BASED SYSTEM FOR PRESERVING, MANAGING, AND EXCHANGING ENGINEERING MATERIALS TEST DATA. DATA SCIENCE JOURNAL 11; 2012. JRC75978; MatDB Online has description \"MatDB Online facility is a Standards-based system for preserving, managing, and exchanging engineering materials test data.\"; MatDB has description \"MatDB is a database application for experimentally measured engineering materials data. It supports open, registered, and restricted access. It presently hosts more than 20.000 unique data sets coming mainly from European and Member State research programmes. It supports web interfaces for entering, browsing, and retrieving data. MatDB is also enabled for innovative services, including data citation and interoperability standards. The data citation service relies on DataCite DOIs. \"; MatPortal has description \"Ontology repository for materials science.\"; Materials Platform for Data Science has description \"Online materials database (known as PAULING FILE project) with nearly 2 million entries: physical properties, crystal structures, phase diagrams, available via API, ready for modern data-intensive applications. The source of these entries are about 300,000 peer-reviewed publications in materials science, processed during the last 16 years by an international team of PhD editors. The results are presented online with a quick search interface. The basic access is provided for free.\"; Materials Data Repository has description \"MDR is a data repository to collect and store papers, presentation materials, and related materials data to accumulate and release them in a form suitable for the promotion of materials research and materials informatics. Users can search the documents and the data from information (metadata) such as sample, instrument, method, and from the full text of the deposited data, to browse and download them freely. \"; NOMAD Metainfo has documentation https://nomad-lab.eu/services/metainfo; NOMAD Metainfo has description \"The NOMAD Metainfo stores descriptive and structured information about materials-science data contained in the NOMAD Archive\"; Organic Materials Database (OMDB) has description \"The organic materials database is an open access electronic structure database for 3-dimensional organic crystals, developed and hosted at the Nordic Institute for Theoretical Physics – Nordita.\n",
      "\n",
      "It provides tools for search queries based on data-mining and machine learning techniques. The universal features provided on our web interface facilitate the design of novel functional organic materials with a wide-range of applications.\"\n",
      "No. 22 answer: https://publications.jrc.ec.europa.eu/repository/handle/JRC75978\n",
      "No. 23 question: What are the types of software licenses?\n",
      "No. 23 context: has format has type nan; https://compositionspace.readthedocs.io/en/latest/ has type documentation; https://rdf.pyscal.org has type documentation; https://fairmat-experimental.github.io/nexus-fairmat-proposal/9636feecb79bb32b828b1a9804269573256d7696/index.html has type documentation; https://workflow-gallery.github.io/calphy/README.html has type documentation; https://github.com/DataAnalyticsEngineering/EQ2PC#readme has type documentation; http://feap.berkeley.edu/wiki/index.php?title=FEAP_Wiki_Main_Page has type documentation; https://www.paraview.org/documentation/ has type documentation; https://www.vasp.at/wiki/index.php/The_VASP_Manual has type documentation; http://www.castep.org/CASTEP/Documentation has type documentation; https://www.cpmd.org/wordpress/index.php/documentation/ has type documentation; https://docs.abinit.org/ has type documentation; https://www.quantum-espresso.org/documentation/ has type documentation; http://jdftx.org/Using.html has type documentation; https://manual.cp2k.org/#gsc.tab=0 has type documentation; https://wiki.fysik.dtu.dk/gpaw/documentation/documentation.html has type documentation; http://qboxcode.org/doc/html/ has type documentation; https://departments.icmab.es/leem/siesta/Documentation/index.html has type documentation; http://www.openmx-square.org/openmx_man3.9/index.html has type documentation; https://elk.sourceforge.io/#documentation has type documentation; http://exciting.wikidot.com/tutorials-oxygen has type documentation; https://www.flapw.de/MaX-6.0/documentation/userGuideOverview/ has type documentation; http://www.wien2k.at/reg_user/textbooks/usersguide.pdf has type documentation; https://docs.lammps.org/Manual.html has type documentation; http://imd.itap.physik.uni-stuttgart.de/userguide/imd.html has type documentation; https://manual.gromacs.org/current/index.html has type documentation; https://docs.fenicsproject.org/ has type documentation; https://damask.mpie.de/documentation/index.html has type documentation; https://pyiron.readthedocs.io/en/latest/ has type documentation; https://aiida.readthedocs.io/projects/aiida-core/en/latest/ has type documentation; https://simstack.readthedocs.io/en/latest/ has type documentation; https://wiki.fysik.dtu.dk/ase/ase/ase.html has type documentation; https://www.ovito.org/docs/current/ has type documentation; http://jmol.sourceforge.net/docs/ has type documentation; http://jp-minerals.org/vesta/en/doc.html has type documentation; http://www.xcrysden.org/Documentation.html has type documentation; https://www.ks.uiuc.edu/Research/vmd/current/ug/ has type documentation; https://phonopy.github.io/phonopy/#documentation has type documentation; https://vibes-developers.gitlab.io/vibes/Documentation/0_intro/ has type documentation; https://avogadro.cc/docs/ has type documentation; https://pymatgen.org/usage.html has type documentation; http://molmod.github.io/tamkin/ has type documentation; https://lammps.github.io/pizza/doc/Manual.html has type documentation; https://freud.readthedocs.io/en/latest/ has type documentation; http://molmod.github.io/yaff/ has type documentation; https://computationalmaterials.gitlab.io/clease/api_doc.html has type documentation; https://kliff.readthedocs.io/en/latest/ has type documentation; https://mendeleev.readthedocs.io/en/stable/quick.html has type documentation; https://ahartmaier.github.io/pyLabFEA/ has type documentation; https://pacemaker.readthedocs.io/en/latest/ has type documentation; https://paraprobe-toolbox.readthedocs.io/en/latest/ has type documentation; https://stabix.readthedocs.io/en/latest/ has type documentation; https://math.lbl.gov/voro++/doc/ has type documentation; http://www.qhull.org/html/index.htm has type documentation; https://doc.elabftw.net/ has type documentation; https://kadi4mat.readthedocs.io/en/stable/index.html has type documentation; https://github.com/Materials-Data-Science-and-Informatics/metador/blob/main/README.md has type documentation; https://docs.httk.org/en/latest/ has type documentation; https://colabfit.github.io/colabfit-tools/html/index.html has type documentation; https://static.oqmd.org/static/docs/index.html has type documentation; https://api.materialsproject.org/docs has type documentation; https://www.turbomole.org/turbomole/turbomole-documentation/ has type documentation; https://jacksund.github.io/simmate/home/ has type documentation; https://kit-data-manager.github.io/fairdoscope/ has type documentation; https://doi.org/10.1016/j.msea.2019.138295 has type documentation; https://doi.org/10.1098/rspa.2020.0568 has type documentation; https://doi.org/10.1002/nme.6869 has type documentation; https://doi.org/10.3389/fmats.2019.00075 has type documentation; https://doi.org/10.1007/s10853-020-05740-x has type documentation; https://doi.org/10.1016/j.msea.2018.01.033 has type documentation; https://www.optimade.org/ has type documentation; https://materials-data-science-and-informatics.github.io/dislocation-ontology/ has type documentation; w3id.org/mdo/full/1.0/ has type documentation; http://www.quantum-simulation.org/ has type documentation; https://publications.jrc.ec.europa.eu/repository/handle/JRC75978 has type documentation; http://docs.oasis-open.org/materials/materials-matml-spec-pr-01.htm has type documentation; https://www.iucr.org/resources/cif has type documentation; https://colabfit.org/about/ has type documentation; https://citrineinformatics.github.io/gemd-docs/ has type documentation; https://nomad-lab.eu/services/metainfo has type documentation; https://citrineinformatics.github.io/pif-documentation/index.html has type documentation; https://www.nexusformat.org/ has type documentation; https://emmc.eu/moda/ has type documentation; http://icatproject-contrib.github.io/CSMD/ has type documentation; https://www.izus.uni-stuttgart.de/fokus/engmeta has type documentation; https://docs.dftk.org/stable/ has type documentation; https://doi.org/10.5281/zenodo.7625259 has type documentation; https://calphy.org has type documentation; https://pyscal.org has type documentation; https://imagej.net/learn/ has type documentation; documentation has type nan; Commercial license has type Proprietary commercial software license; Propietary has type Proprietary commercial software license; Commercial license has type Proprietary commercial software license; Propietary academic license has type Proprietary commercial software license; Academic and commercial license has type Proprietary commercial software license; Propietary commercial license has type Proprietary commercial software license; Proprietary commercial software license has type nan; software repository has type nan; Proprietary license has type licence\n",
      "No. 23 answer: Proprietary commercial software license, nan\n",
      "No. 24 question: What are the software used to produce the data in the Materials Cloud repository?\n",
      "No. 24 context: Materials Commons has description \"A site for Materials Scientists to collaborate, store and publish research. The Materials Commons is supported by the U.S. Department of Energy, Office of Basic Energy Sciences, Division of Materials Sciences and Engineering.\"; Materials Cloud has conforms to specification OPTIMADE; Materials Cloud Youtube channel required tool Materials Cloud; Materials Cloud has description \"Materials Cloud is built to enable the seamless sharing and dissemination of resources in computational materials science, offering educational, research, and archiving tools; simulation software and services; and curated and raw data. These underpin published results and empower data-based discovery, compliant with data management plans and the FAIR principles.\"; OpenBIS has  description \"The openBIS platform has three primary functionalities: 1. Inventory management of laboratory samples, materials, protocols, equipment. 2. Laboratory notebook, to document lab experiments. 3. Data management, to store all data related to lab experiments (raw, processed, analysed data, scripts, Jupyter notebooks, etc.).\"; Materials Data Repository has description \"MDR is a data repository to collect and store papers, presentation materials, and related materials data to accumulate and release them in a form suitable for the promotion of materials research and materials informatics. Users can search the documents and the data from information (metadata) such as sample, instrument, method, and from the full text of the deposited data, to browse and download them freely. \"\n",
      "No. 24 answer:  Answer: simulation software and services\n",
      "No. 25 question: What are datasets produced by the BAM organization?\n",
      "No. 25 context: Framework for curation and distribution of reference datasets related participant project is Bundesanstalt für Materialforschung und -prüfung (BAM); Ontologies for defects in crystals related participant project is Bundesanstalt für Materialforschung und -prüfung (BAM); NOMAD Metainfo has description \"The NOMAD Metainfo stores descriptive and structured information about materials-science data contained in the NOMAD Archive\"\n",
      "No. 25 answer:  Metadata about materials-science data contained in the NOMAD Archive.\n",
      "No. 26 question: What are some available datasets of mechanical properties of steels?\n",
      "No. 26 context: Elastic Constant Demo has related resource Elastic Constant Demo Data; Elastic Constant Demo Data has related resource Elastic Constant Demo; Elastic Constant Demo Data has repository http://hdl.handle.net/21.11102/7f78d0ed-4855-4fdf-b764-0bea725f8821; Elastic Constant Demo Data has description \"Data containing elastic constants of Al alloy\"; Polymer Database (PoLyInfo) has description \"Polymer Database \"PoLyInfo\" systematically provides various data required for polymeric material design. The main data source is academic literature on polymers. Information on polymers including properties, chemical structures, IUPAC names, processing methods of measured samples, measurement conditions, used monomers and polymerization methods are stored in a object database. About 100 types of properties including thermal, electrical and mechanical properties are covered. Homopolymers, copolymers, furthermore polymer blends, composites and compounds that consist of homopolymers and copolymers are open to the public.\"; MatDat has description \"Over 1000 detailed, fully referenced and verified datasets for steels, aluminium and titanium alloys, cast irons/steels, weld metals. Materials can be searched according to a number of different criteria. Initial search results are presented in the form of a table from which they can be selected for presentation in form of detailed report or for comparison overview (up to 5 materials). In addition to material information and values of properties/parameters, images of microstructure, specimens and those of stress-strain, stress- and strain-life curves (if available) can be reviewed as well.\"\n",
      "No. 26 answer: a. Elastic Constant Demo Data - 'Data containing elastic constants of Al alloy'\n",
      "   b. Polymer Database (PoLyInfo) - Properties information along with a vast number of descriptions for polymers, including thermal, electrical, and mechanical properties\n",
      "    c. MatDat - Over 1000 characterized datasets for steels, aluminum & titanium alloys, along with diverse search options\n",
      "No. 27 question: What are datasets related to \"Transmission electron microscopy\"?\n",
      "No. 27 context: pySTEM has  description \"Automatic segmentation of Scanning Transmission Electron Microscope (STEM) images with unsupervised machine learning\"; Atomic Simulation Recipes has related resource ASE; Atomic Simulation Recipes has  description \"Recipes for Atomic Scale Materials Research. Collection of python recipes for common (and not so common)\n",
      "tasks perfomed in atomic scale materials research. These tasks include\n",
      "relaxation of structures, calculating ground states, calculating band\n",
      "structures, calculating dielectric functions and so on.\"\n",
      "No. 27 answer: DQ: What are the datasets related to \"Transmission electron microscopy\"? A:ASE. Data available: pySTEM automatic Scanning Transmission Electron Microscope (STEM) image segmentation with unsupervised machine learning tech. Atomic Simulation Recipes offer python recipes for tasks in atomic scale materials research including relaxation of structures, calculating band structures, and more.\n",
      "No. 28 question: What is the license of the dataset \"Elastic Constant Demo Data\"?\n",
      "No. 28 context: NeXus Data Format has license LGPL-2.1 license; NeXus Data Format has documentation https://www.nexusformat.org/; NeXus Data Format has description \"NeXus is a common data format for neutron, x-ray, and muon science. It is being developed as an international standard by scientists and programmers representing major scientific facilities in order to facilitate greater cooperation in the analysis and visualization of neutron, x-ray, and muon data.\"; Elastic Constant Demo has license BSD 3-Clause License; Elastic Constant Demo has  description \"Workflow to calculate elastic constants of Al alloy\"; Elastic Constant Demo Data has license BSD 3-Clause License; Elastic Constant Demo Data has file Extension \".h5\"; Elastic Constant Demo Data has description \"Data containing elastic constants of Al alloy\"; Metadata schemes for materials science data has license Creative Commons Attribution 4.0 International; Metadata schemes for materials science data has description \"Metadata schemes for materials science data in JSON representation as implemented in TTL representation in the application profiles in the version from 01.05.2022 of the research data management platform CoScInE. The schema are actively developed in the SFB1394 with the aim to construct defect phase diagrams in an automated fashion using all data from advanced experimental characterization and computer simulations produced in this project.\"; Phonon database at Kyoto university has license Creative Commons Attribution 4.0 International License; Phonon database at Kyoto university has description \"It’s getting to be a mainstream idea collecting a big set of ab-initio calculations and analyzing them by informatics approach. For scientific purpose, we plan to do it for phonon properties. As an attempt, we have run a set of ab-initio phonon calculations and left the raw data on this static web site. The aim of this web site is just leaving the data to distribute.\"\n",
      "No. 28 answer:   BSD 3-Clause License.\n",
      "No. 29 question: What is the repository for \"BAM reference data\"?\n",
      "No. 29 context: BAM reference data: results of ASTM E139 -11 creep tests on a reference material of Nimonic 75 nickel-base alloy has repository https://doi.org/10.5281/zenodo.5106606; BAM reference data: results of ASTM E139 -11 creep tests on a reference material of Nimonic 75 nickel-base alloy has file Extension \"csv\"; BAM reference data: results of ASTM E139 -11 creep tests on a reference material of Nimonic 75 nickel-base alloy has file Extension \"pdf\"; BAM reference data: results of ASTM E139 -11 creep tests on a reference material of Nimonic 75 nickel-base alloy has description \"The creep behavior of a certified reference material was determined according to ASTM E139-11 using calibrated equipment of an accredited testing laboratory\"; Carolina Materials Database has description \"Welcome to Carolina Materials Database created in Jianjun Hu's and Ming Hu's groups at University of South Carolina. A freely, globally accessible database of 38,716 inorganic material compounds with over 80,000 calculated properties, and growing.\"\n",
      "No. 29 answer:  https://doi.org/10.5281/zenodo.5106606\n",
      "No. 30 question: What are the different data formats in the \"BAM reference data\"?\n",
      "No. 30 context: Electronic Structure Common Data Format (ESCDF) has repository https://gitlab.com/ElectronicStructureLibrary/escdf/escdf-specifications; Electronic Structure Common Data Format (ESCDF) has description \"This project gathers the working documents used to design the specifications\n",
      "of the Electronic Structure Common Data Format (ESCDF), an initiative of the\n",
      "Electronic Structure Library (ESL) Contributors.\n",
      "\"; BAM reference data: results of ASTM E139 -11 creep tests on a reference material of Nimonic 75 nickel-base alloy has repository https://doi.org/10.5281/zenodo.5106606; BAM reference data: results of ASTM E139 -11 creep tests on a reference material of Nimonic 75 nickel-base alloy has file Extension \"csv\"; BAM reference data: results of ASTM E139 -11 creep tests on a reference material of Nimonic 75 nickel-base alloy has file Extension \"pdf\"; BAM reference data: results of ASTM E139 -11 creep tests on a reference material of Nimonic 75 nickel-base alloy has description \"The creep behavior of a certified reference material was determined according to ASTM E139-11 using calibrated equipment of an accredited testing laboratory\"; Carolina Materials Database has description \"Welcome to Carolina Materials Database created in Jianjun Hu's and Ming Hu's groups at University of South Carolina. A freely, globally accessible database of 38,716 inorganic material compounds with over 80,000 calculated properties, and growing.\"; Computational Materials Repository (CMR) has related resource ASE; Computational Materials Repository (CMR) has description \"Each CMR project consists of an ASE-database and a project page describing the data and showing examples of how to work with the data using Python and ASE.\"\n",
      "No. 30 answer:  CSV and PDF.\n",
      "No. 31 question: What is the software version of \"pacemaker\"?\n",
      "No. 31 context: pacemaker has Version \"0.2.7\"; pacemaker has  description \"a tool for fitting of interatomic potentials in a general nonlinear Atomic Cluster Expansion (ACE) form. \"; Qe-tools has programming Language  python; Qe-tools has  description \"A set of useful tools for Quantum ESPRESSO\"; eLabFTW has Version \"4.3.9\"; eLabFTW has  description \"eLabFTW is an electronic lab notebook manager for research teams. It lets you store and organize your research experiments easily. It also features a database where any kind of objects (such as antibodies, plasmids, cell lines, boxes, etc.) can be stored. It is accessed via the browser\"; Phonon database at Kyoto university has description \"It’s getting to be a mainstream idea collecting a big set of ab-initio calculations and analyzing them by informatics approach. For scientific purpose, we plan to do it for phonon properties. As an attempt, we have run a set of ab-initio phonon calculations and left the raw data on this static web site. The aim of this web site is just leaving the data to distribute.\"\n",
      "No. 31 answer:   \"0.2.7\"\n",
      "No. 32 question: What is the field of research \"BAM reference data\"?\n",
      "No. 32 context: :n24fcd3fc8d9441f293ea115e3ab0e59bb21 has first element educational resource; :n24fcd3fc8d9441f293ea115e3ab0e59bb29 has first element educational resource; :n24fcd3fc8d9441f293ea115e3ab0e59bb33 has first element educational resource; BAM reference data: results of ASTM E139 -11 creep tests on a reference material of Nimonic 75 nickel-base alloy has discipline high temperature mechanical behavior; BAM reference data: results of ASTM E139 -11 creep tests on a reference material of Nimonic 75 nickel-base alloy has description \"The creep behavior of a certified reference material was determined according to ASTM E139-11 using calibrated equipment of an accredited testing laboratory\"; Carolina Materials Database has description \"Welcome to Carolina Materials Database created in Jianjun Hu's and Ming Hu's groups at University of South Carolina. A freely, globally accessible database of 38,716 inorganic material compounds with over 80,000 calculated properties, and growing.\"; Materials Platform for Data Science has description \"Online materials database (known as PAULING FILE project) with nearly 2 million entries: physical properties, crystal structures, phase diagrams, available via API, ready for modern data-intensive applications. The source of these entries are about 300,000 peer-reviewed publications in materials science, processed during the last 16 years by an international team of PhD editors. The results are presented online with a quick search interface. The basic access is provided for free.\"; Phonon database at Kyoto university has contact point Togo; Phonon database at Kyoto university has description \"It’s getting to be a mainstream idea collecting a big set of ab-initio calculations and analyzing them by informatics approach. For scientific purpose, we plan to do it for phonon properties. As an attempt, we have run a set of ab-initio phonon calculations and left the raw data on this static web site. The aim of this web site is just leaving the data to distribute.\"; Dr. Rainer Stotzka has expertise in Research data infrastructure; Dr. Rossella Aversa has expertise in Research data infrastructure\n",
      "No. 32 answer:    High temperature mechanical behavior.\"\n",
      "No. 33 question: What is the description of the \"BAM reference data\"?\n",
      "No. 33 context: BAM reference data: results of ASTM E139 -11 creep tests on a reference material of Nimonic 75 nickel-base alloy has description \"The creep behavior of a certified reference material was determined according to ASTM E139-11 using calibrated equipment of an accredited testing laboratory\"; Carolina Materials Database has description \"Welcome to Carolina Materials Database created in Jianjun Hu's and Ming Hu's groups at University of South Carolina. A freely, globally accessible database of 38,716 inorganic material compounds with over 80,000 calculated properties, and growing.\"\n",
      "No. 33 answer:  Description of the \"BAM reference data\" is: The creep behavior of a certified reference material was tested following ASTM E139-11, utilizing calibrated equipment at an accredited testing laboratory.\n",
      "No. 34 question: What are the datasets produced in 2022?\n",
      "No. 34 context: nan\n",
      "An error occurred while processing the problem: can only concatenate str (not \"float\") to str\n",
      "No. 34 answer: Unable to get answer\n",
      "No. 35 question: Who is the creators of the \"BAM reference data\"?\n",
      "No. 35 context: Electronic Structure Common Data Format (ESCDF) has description \"This project gathers the working documents used to design the specifications\n",
      "of the Electronic Structure Common Data Format (ESCDF), an initiative of the\n",
      "Electronic Structure Library (ESL) Contributors.\n",
      "\"; BAM reference data: results of ASTM E139 -11 creep tests on a reference material of Nimonic 75 nickel-base alloy has creator Sina Schriever; BAM reference data: results of ASTM E139 -11 creep tests on a reference material of Nimonic 75 nickel-base alloy has creator Prof. Birgit Skrotzki; BAM reference data: results of ASTM E139 -11 creep tests on a reference material of Nimonic 75 nickel-base alloy has description \"The creep behavior of a certified reference material was determined according to ASTM E139-11 using calibrated equipment of an accredited testing laboratory\"; Carolina Materials Database has description \"Welcome to Carolina Materials Database created in Jianjun Hu's and Ming Hu's groups at University of South Carolina. A freely, globally accessible database of 38,716 inorganic material compounds with over 80,000 calculated properties, and growing.\"; NOMAD Metainfo has description \"The NOMAD Metainfo stores descriptive and structured information about materials-science data contained in the NOMAD Archive\"\n",
      "No. 35 answer: Answer: Sina Schriever, Prof. Birgit Skrotzki\n",
      "No. 36 question: What are the datasets published by \"BAM\"?\n",
      "No. 36 context: Framework for curation and distribution of reference datasets related participant project is Bundesanstalt für Materialforschung und -prüfung (BAM); Ontologies for defects in crystals related participant project is Bundesanstalt für Materialforschung und -prüfung (BAM); NOMAD Metainfo has documentation https://nomad-lab.eu/services/metainfo; NOMAD Metainfo has description \"The NOMAD Metainfo stores descriptive and structured information about materials-science data contained in the NOMAD Archive\"\n",
      "No. 36 answer:  The NOMAD Metainfo stores descriptive and structured information about materials-science data contained in the NOMAD Archive published by \"BAM\".\n",
      "No. 37 question: Average\n",
      "No. 37 context: nan\n",
      "An error occurred while processing the problem: can only concatenate str (not \"float\") to str\n",
      "No. 37 answer: Unable to get answer\n"
     ]
    }
   ],
   "source": [
    "from openai import OpenAI\n",
    "import openai\n",
    "import os\n",
    "\n",
    "\n",
    "# Set OpenAI API key\n",
    "api_key = os.environ.get('OPENAI_API_KEY')\n",
    "openai.api_key = api_key\n",
    "\n",
    "# Initialize OpenAI client\n",
    "client = OpenAI(api_key=api_key)\n",
    "\n",
    "# Set up the model\n",
    "model = fine_tuned_model_name\n",
    "\n",
    "user_input_count = 0\n",
    "arr_answers = []\n",
    "\n",
    "for i in range(length):\n",
    "    if contexts[i] == \"\":\n",
    "        user_input_count += 1\n",
    "        continue\n",
    "    print(f\"No. {user_input_count} question: {questions[i]}\")\n",
    "    print(f\"No. {user_input_count} context: {contexts[i]}\")\n",
    "    answer = get_answer_with_single_question(questions[i], contexts[i])\n",
    "    arr_answers.append(answer)\n",
    "    print(f\"No. {user_input_count} answer: {answer}\")\n",
    "    user_input_count += 1"
   ]
  },
  {
   "cell_type": "code",
   "execution_count": 39,
   "outputs": [
    {
     "data": {
      "text/plain": "['Experts: Prof. Stefan Diebels, PD Dr. Franz Roters, Prof. Dr. Karsten Durst, Prof. Dr.-Ing. Stephan Wulfinghoff, Christian Dorn, Dr.-Ing Abril Azocar Guzman, Prof. Dr. Jörg Neugebauer, PD Dr habill. Thomas Hammerschmidt, Dr Sarath Menon. Tools: EQ2PC, pyscal_rdf, Elastic Constant Demo, Computational Material Sample Ontology, Pyiron YouTube channel, Calphy, Melting temperature computational workflow, Pyscal, MinimumEnergyPoints, Image based prediction of the heat conduction tensor, Finite Element Analysis Program, Vienna Ab initio Simulation Package, Cambridge Serial Total Energy Package, Carr Parrinello Molecular Dynamics, ABINIT, BigDFT, Parallel total energy, JDTFx, PARSEC, CP2K, GPAW, S/PHI/nX, Qbox First-Principles Molecular Dynamics, DFTK.jl, density of Montréal, SIESTA, CRYSTAL, FHI-AIMS, FPLO, Open source package for Material eXplorer, Elk, exciting, FLEUR, WIEN2k, Large-scale Atomic/Molecular Massively Parallel Simulator, The ITAP Molecular Dynamics Program, GROMACS, MD++, Thermo-Calc, OpenPhase, Multiphysics Object Oriented Simulation Environment, Abaqus, FeniCS Project, Dusseldorf Advanced Material Simulation Kit, Automated interactive infrastructure and database for computational science, SimStack, Atomic Simulation Environment, Quantum Espresso.',\n '  essence\">Answer: \\n1. EMMC-CSA (2016-2019) \\n2. SimDOME (2019-2023) \\n3. MarketPlace (2018-2022) \\n4. VIMMP (2018-2021) \\n5. OntoTrans (2020-2024) \\n6. ReaxPro (2019-2023) \\n7. OntoCommons (2020-2023) \\n8. OYSTER (2017-2021) \\n9. NanoMECommons (2021-2025) \\n10. OpenModel (2021-2025)',\n ' Fernández; Prof. Felix Fritzen; Oliver Weeger; Frederik Larsson',\n ' Researchers that work in the group with Ebrahim Norouzi are: Dr.  Jörg Waitelonis, Dr.  Heike Fliegl, and Prof. Dr. Harald Sack.',\n ' ParaView; Email: support@kitware.com',\n 'Answer: Forschungszentrum Jülich.',\n ' Context: (1) GROMACS provides several papers including those (2008) by B. Hess, C. Kutzner, D. van der Spoel, and \"Algorithms for ... molecular simulation\". (2) PubChem citation from 2021 refers to reviewing chemical information in PubChem. (3) A description reiterated that PubChem is a vast chemical information repository. Note: Inventory, lab notebooks, data mentioned earlier; CMR linked with ASE for Python materials work.\\n\\n Answer: \"Molecular Dynamics\" software uses the programming language (no programming language mentioned), has no license assessment mentioned, and Adheres to an openBIS platform for inventory/data management, a Visual Molecular Dynamics (VMD) \"**documentation page**,\" GROMACS provides molecular simulation procedures through several papers, and it is related to the Computational Materials Repository (CMR); no information on the programming language, license, or detailed documentation as noted above.',\n 'AML: A Python package to create reference sets for training Neural Network Potentials, CIF file input\\nOVITO: Visualization and analysis tool for data from MD simulations, Monte-Carlo simulations, etc. \\nOVITO OS: Available on Linux, macOS, and Microsoft Windows.',\n 'Pyiron, Simmate, matminer',\n ' Answer: Use \"pyiron: An integrated development environment for computational materials science\" citation with authors - Jan Janssen, Sudarsan Surendralal, Yury Lysogorskiy, Mira Todorova, Tilmann Hickel, Ralf Drautz, Jörg Neugebauer, and 2019 publication in Computational Materials Science journal.',\n 'A repository by NIST providing interatomic potentials.',\n ' Answer: Pyscal',\n ' Jupyter notebooks, Atomic Simulation Environment.',\n ' Answer: - Crystallography Open Database (COD) is an open-access database (http://www.crystallography.net/cod/) with a content focusing on crystal structures excluding biopolymers. - dynasor (https://dynasor.materialsmodeling.org/) enables calculating dynamical structure factors and current correlation functions in molecular dynamics simulations.  - Visual Molecular Dynamics (VMD) is a molecular modeling and visualization program (https://www.ks.uiuc.edu/Research/vmd/) compatible with Linux, Mac OS, and Microsoft Windows. - QuickFF (https://molmod.github.io/QuickFF/) is a Python package at the Center for Molecular Modeling (CMM) that efficiently generates accurate force fields from ab initio calculations. - Yet another force field designed in Python and C (https://molmod.ugent.be/software/yaff) at CMM for testing new FF models.',\n ' Answer: MAMBO, MaterialsMine (MM) ',\n 'A unified multi-physics crystal plasticity simulation package designed to handle multi-physics problems like deformation, transformation, heating, and damage evolution in advanced high-strength materials.',\n ' The Materials Design Ontology:MDO has a repository at https://github.com/LiUSemWeb/Materials-Design-Ontology . The description of MDO is that it is an ontology for the materials design field, representing domain knowledge specific to solid-state physics and computational materials science. MatPortal has a repository at https://matportal.org/. The description of MatPortal indicates that it functions as an ontology repository for materials science. MaterialsMine (MM) has a repository at https://github.com/tetherless-world/materialsmine , with a description stating it is a materials ontology supporting data publication for nanomaterials and metamaterials.',\n 'Answer: Instrument.',\n 'Unable to get answer',\n ' Ontologies, software, workflows, ontologies, schemas, APIs, instruments, facilities, educational resources.',\n ' API. That way, you can get data without a manual search.',\n ' Answer: **OpenPathSampling**',\n 'https://publications.jrc.ec.europa.eu/repository/handle/JRC75978',\n 'Proprietary commercial software license, nan',\n ' Answer: simulation software and services',\n ' Metadata about materials-science data contained in the NOMAD Archive.',\n \"a. Elastic Constant Demo Data - 'Data containing elastic constants of Al alloy'\\n   b. Polymer Database (PoLyInfo) - Properties information along with a vast number of descriptions for polymers, including thermal, electrical, and mechanical properties\\n    c. MatDat - Over 1000 characterized datasets for steels, aluminum & titanium alloys, along with diverse search options\",\n 'DQ: What are the datasets related to \"Transmission electron microscopy\"? A:ASE. Data available: pySTEM automatic Scanning Transmission Electron Microscope (STEM) image segmentation with unsupervised machine learning tech. Atomic Simulation Recipes offer python recipes for tasks in atomic scale materials research including relaxation of structures, calculating band structures, and more.',\n '  BSD 3-Clause License.',\n ' https://doi.org/10.5281/zenodo.5106606',\n ' CSV and PDF.',\n '  \"0.2.7\"',\n '   High temperature mechanical behavior.\"',\n ' Description of the \"BAM reference data\" is: The creep behavior of a certified reference material was tested following ASTM E139-11, utilizing calibrated equipment at an accredited testing laboratory.',\n 'Unable to get answer',\n 'Answer: Sina Schriever, Prof. Birgit Skrotzki',\n ' The NOMAD Metainfo stores descriptive and structured information about materials-science data contained in the NOMAD Archive published by \"BAM\".',\n 'Unable to get answer']"
     },
     "execution_count": 39,
     "metadata": {},
     "output_type": "execute_result"
    }
   ],
   "source": [
    "arr_answers"
   ],
   "metadata": {
    "collapsed": false,
    "ExecuteTime": {
     "end_time": "2024-03-01T23:01:59.581462400Z",
     "start_time": "2024-03-01T23:01:59.548445100Z"
    }
   },
   "id": "3fa41ea7a047938e"
  },
  {
   "cell_type": "code",
   "execution_count": 42,
   "outputs": [
    {
     "data": {
      "text/plain": "                                  Competency Question  \\\n0   Who is working in the Computational Materials ...   \n1   What are the research projects associated to E...   \n2    Who are the contributors of the data \"datasets\"?   \n3   Who is working with Researcher \"Ebrahim Norouz...   \n4             who is the email address of \"ParaView\"?   \n5       What are the affilliations of Volker Hofmann?   \n6   What is \"Molecular Dynamics\" Software? List th...   \n7   What are pre- and post-processing tools for MD...   \n8   What are some workflow environments for comput...   \n9                           How should I cite pyiron?   \n10  Where can I find a list of interatomic potenti...   \n11  What are python libraries used for calculating...   \n12   What are the electronic lab notebooks available?   \n13  What are the software for Molecular Dynamics (...   \n14   What are the ontologies in nanomaterials domain?   \n15                                    What is DAMASK?   \n16  What are the data portals for materials scienc...   \n17                  What are the instruments for APT?   \n18  In which institution can I find tomography equ...   \n19   What are the educational resources for Ontology?   \n20              What is the API of Materials Project?   \n21       Which simulation software have a python API?   \n22   What is the documentation of the \"MatDB Online\"?   \n23           What are the types of software licenses?   \n24  What are the software used to produce the data...   \n25  What are datasets produced by the BAM organiza...   \n26  What are some available datasets of mechanical...   \n27  What are datasets related to \"Transmission ele...   \n28  What is the license of the dataset \"Elastic Co...   \n29   What is the repository for \"BAM reference data\"?   \n30  What are the different data formats in the \"BA...   \n31       What is the software version of \"pacemaker\"?   \n32  What is the field of research \"BAM reference d...   \n33  What is the description of the \"BAM reference ...   \n34            What are the datasets produced in 2022?   \n35   Who is the creators of the \"BAM reference data\"?   \n36          What are the datasets published by \"BAM\"?   \n37                                            Average   \n\n                                         Ground Truth  \\\n0   PD Dr. habil. Thomas Hammerschmidt; Prof. Dr. ...   \n1   VIMMP (2018-2021); OYSTER (2017-2021); SimDOME...   \n2   Prof. Felix Fritzen <http://demo.fiz-karlsruhe...   \n3   Prof. Dr. Harald Sack; Mirza Mohtashim Alam; D...   \n4                                 support@kitware.com   \n5   Forschungszentrum Jülich <http://demo.fiz-karl...   \n6   1. Resource: http://demo.fiz-karlsruhe.de/matw...   \n7        Pizza.py Toolkit; pyscal; ASE; MDTraj; freud   \n8                             Pyiron; AiiDA; SimStack   \n9   \"title = {pyiron: An integrated development en...   \n10  Interatomic potentials repository (NIST); Open...   \n11                                             Pyscal   \n12  Pasta ELN; eLabFTW; Karlsruhe Data Infrastruct...   \n13  Calphy; Melting temperature computational work...   \n14  MaterialsMine (MM); NanoParticle Ontology for ...   \n15  DAMASK is a unified multi-physics crystal plas...   \n16                                          MatPortal   \n17                                          No Answer   \n18  1. Procon CT-alpha\"\\n \"X-ray micro computed to...   \n19  Knowledge Graphs (openHPI Massive Open Online ...   \n20              https://api.materialsproject.org/docs   \n21                                          EMMOntoPy   \n22  https://publications.jrc.ec.europa.eu/reposito...   \n23  BSD-3-Clause license; GPL 3 License; ASL/ BSD-...   \n24                  pymatgen; AiiDA; Quantum Espresso   \n25  BAM reference data: results of ASTM E139 -11 c...   \n26  Full dataset of several mechanical tests on an...   \n27  Radii of S-phase Al2CuMg in Al-alloy EN AW-261...   \n28                               BSD 3-Clause License   \n29  http://demo.fiz-karlsruhe.de/matwerk/E291704; ...   \n30                                           csv; pdf   \n31                                              0.2.7   \n32               high temperature mechanical behavior   \n33  The creep behavior of a certified reference ma...   \n34  Brinell-Hardness (HBW 2.5/62.5) of Al-alloy EN...   \n35  Sina Schriever (http://demo.fiz-karlsruhe.de/m...   \n36  Datasets for the analysis of dislocations at g...   \n37                                                NaN   \n\n                                      Related Triples  \\\n0   [('http://demo.fiz-karlsruhe.de/matwerk/E12326...   \n1   [('http://demo.fiz-karlsruhe.de/matwerk/E11524...   \n2   [('http://demo.fiz-karlsruhe.de/matwerk/E11722...   \n3   [('http://demo.fiz-karlsruhe.de/matwerk/E31877...   \n4   [('http://demo.fiz-karlsruhe.de/matwerk/E41915...   \n5   [('http://demo.fiz-karlsruhe.de/matwerk/E14531...   \n6   [('http://demo.fiz-karlsruhe.de/matwerk/E55172...   \n7   [('http://demo.fiz-karlsruhe.de/matwerk/E47387...   \n8   [('http://demo.fiz-karlsruhe.de/matwerk/E10313...   \n9   [('http://demo.fiz-karlsruhe.de/matwerk/E45749...   \n10  [('http://demo.fiz-karlsruhe.de/matwerk/E41732...   \n11  [('http://demo.fiz-karlsruhe.de/matwerk/E41368...   \n12  [('http://demo.fiz-karlsruhe.de/matwerk/E11999...   \n13  [('http://demo.fiz-karlsruhe.de/matwerk/E10241...   \n14  [('http://demo.fiz-karlsruhe.de/matwerk/E11433...   \n15  [('http://demo.fiz-karlsruhe.de/matwerk/E44421...   \n16  [('http://demo.fiz-karlsruhe.de/matwerk/E12486...   \n17  [('http://demo.fiz-karlsruhe.de/matwerk/E10241...   \n18                                                 []   \n19  [('http://demo.fiz-karlsruhe.de/matwerk/E11327...   \n20  [('http://demo.fiz-karlsruhe.de/matwerk/E10270...   \n21  [('http://demo.fiz-karlsruhe.de/matwerk/E11252...   \n22  [('http://demo.fiz-karlsruhe.de/matwerk/E11463...   \n23  [('http://purls.helmholtz-metadaten.de/mwo/has...   \n24  [('http://demo.fiz-karlsruhe.de/matwerk/E10866...   \n25  [('http://demo.fiz-karlsruhe.de/matwerk/E12483...   \n26  [('http://demo.fiz-karlsruhe.de/matwerk/E12466...   \n27  [('http://demo.fiz-karlsruhe.de/matwerk/E52273...   \n28  [('http://demo.fiz-karlsruhe.de/matwerk/E11600...   \n29  [('http://demo.fiz-karlsruhe.de/matwerk/E11737...   \n30  [('http://demo.fiz-karlsruhe.de/matwerk/E11539...   \n31  [('http://demo.fiz-karlsruhe.de/matwerk/E51155...   \n32  [(':n24fcd3fc8d9441f293ea115e3ab0e59bb21', 'rd...   \n33  [('http://demo.fiz-karlsruhe.de/matwerk/E11737...   \n34                                                 []   \n35  [('http://demo.fiz-karlsruhe.de/matwerk/E11539...   \n36  [('http://demo.fiz-karlsruhe.de/matwerk/E12483...   \n37                                                NaN   \n\n                                              Context  \\\n0   Prof. Stefan Diebels has expertise in Computat...   \n1   Essential Source of Schemas and Examples (ESSE...   \n2   datasets has contributor Fernández; datasets h...   \n3   Thomas Pardoen has work package Institute of M...   \n4   ParaView has website https://www.paraview.org/...   \n5   Dr. Tilmann Hickel has affiliation with Max-Pl...   \n6   OpenBIS has  description \"The openBIS platform...   \n7   AML has  description \"Python package to automa...   \n8   Atomistictools has related resource Pyiron; Py...   \n9   Pyiron has  description \"pyiron is an integrat...   \n10  Image based prediction of the heat conduction ...   \n11  Pyscal has repository https://github.com/pysca...   \n12  Jupyter notebooks has type object type; Datase...   \n13  Crystallography Open Database (COD) has websit...   \n14  Materials And Molecules Basic Ontology (MAMBO)...   \n15  Elk has type software; Elk has type research s...   \n16  Development of coupled ontologies and workflow...   \n17  Crystallography Open Database (COD) has citati...   \n18                                                NaN   \n19  Aditive Manufacturing Ontology (AMONTOLOGY) ha...   \n20  Materials Cloud has repository https://github....   \n21  OPTIMADE has citation Andersen et al, OPTIMADE...   \n22  MatDB Online has documentation https://publica...   \n23  has format has type nan; https://compositionsp...   \n24  Materials Commons has description \"A site for ...   \n25  Framework for curation and distribution of ref...   \n26  Elastic Constant Demo has related resource Ela...   \n27  pySTEM has  description \"Automatic segmentatio...   \n28  NeXus Data Format has license LGPL-2.1 license...   \n29  BAM reference data: results of ASTM E139 -11 c...   \n30  Electronic Structure Common Data Format (ESCDF...   \n31  pacemaker has Version \"0.2.7\"; pacemaker has  ...   \n32  :n24fcd3fc8d9441f293ea115e3ab0e59bb21 has firs...   \n33  BAM reference data: results of ASTM E139 -11 c...   \n34                                                NaN   \n35  Electronic Structure Common Data Format (ESCDF...   \n36  Framework for curation and distribution of ref...   \n37                                                NaN   \n\n                                          answer_text  \n0   Experts: Prof. Stefan Diebels, PD Dr. Franz Ro...  \n1     essence\">Answer: \\n1. EMMC-CSA (2016-2019) \\...  \n2    Fernández; Prof. Felix Fritzen; Oliver Weeger...  \n3    Researchers that work in the group with Ebrah...  \n4                ParaView; Email: support@kitware.com  \n5                   Answer: Forschungszentrum Jülich.  \n6    Context: (1) GROMACS provides several papers ...  \n7   AML: A Python package to create reference sets...  \n8                           Pyiron, Simmate, matminer  \n9    Answer: Use \"pyiron: An integrated developmen...  \n10  A repository by NIST providing interatomic pot...  \n11                                     Answer: Pyscal  \n12   Jupyter notebooks, Atomic Simulation Environm...  \n13   Answer: - Crystallography Open Database (COD)...  \n14                 Answer: MAMBO, MaterialsMine (MM)   \n15  A unified multi-physics crystal plasticity sim...  \n16   The Materials Design Ontology:MDO has a repos...  \n17                                Answer: Instrument.  \n18                               Unable to get answer  \n19   Ontologies, software, workflows, ontologies, ...  \n20   API. That way, you can get data without a man...  \n21                       Answer: **OpenPathSampling**  \n22  https://publications.jrc.ec.europa.eu/reposito...  \n23       Proprietary commercial software license, nan  \n24           Answer: simulation software and services  \n25   Metadata about materials-science data contain...  \n26  a. Elastic Constant Demo Data - 'Data containi...  \n27  DQ: What are the datasets related to \"Transmis...  \n28                              BSD 3-Clause License.  \n29             https://doi.org/10.5281/zenodo.5106606  \n30                                       CSV and PDF.  \n31                                            \"0.2.7\"  \n32             High temperature mechanical behavior.\"  \n33   Description of the \"BAM reference data\" is: T...  \n34                               Unable to get answer  \n35      Answer: Sina Schriever, Prof. Birgit Skrotzki  \n36   The NOMAD Metainfo stores descriptive and str...  \n37                               Unable to get answer  ",
      "text/html": "<div>\n<style scoped>\n    .dataframe tbody tr th:only-of-type {\n        vertical-align: middle;\n    }\n\n    .dataframe tbody tr th {\n        vertical-align: top;\n    }\n\n    .dataframe thead th {\n        text-align: right;\n    }\n</style>\n<table border=\"1\" class=\"dataframe\">\n  <thead>\n    <tr style=\"text-align: right;\">\n      <th></th>\n      <th>Competency Question</th>\n      <th>Ground Truth</th>\n      <th>Related Triples</th>\n      <th>Context</th>\n      <th>answer_text</th>\n    </tr>\n  </thead>\n  <tbody>\n    <tr>\n      <th>0</th>\n      <td>Who is working in the Computational Materials ...</td>\n      <td>PD Dr. habil. Thomas Hammerschmidt; Prof. Dr. ...</td>\n      <td>[('http://demo.fiz-karlsruhe.de/matwerk/E12326...</td>\n      <td>Prof. Stefan Diebels has expertise in Computat...</td>\n      <td>Experts: Prof. Stefan Diebels, PD Dr. Franz Ro...</td>\n    </tr>\n    <tr>\n      <th>1</th>\n      <td>What are the research projects associated to E...</td>\n      <td>VIMMP (2018-2021); OYSTER (2017-2021); SimDOME...</td>\n      <td>[('http://demo.fiz-karlsruhe.de/matwerk/E11524...</td>\n      <td>Essential Source of Schemas and Examples (ESSE...</td>\n      <td>essence\"&gt;Answer: \\n1. EMMC-CSA (2016-2019) \\...</td>\n    </tr>\n    <tr>\n      <th>2</th>\n      <td>Who are the contributors of the data \"datasets\"?</td>\n      <td>Prof. Felix Fritzen &lt;http://demo.fiz-karlsruhe...</td>\n      <td>[('http://demo.fiz-karlsruhe.de/matwerk/E11722...</td>\n      <td>datasets has contributor Fernández; datasets h...</td>\n      <td>Fernández; Prof. Felix Fritzen; Oliver Weeger...</td>\n    </tr>\n    <tr>\n      <th>3</th>\n      <td>Who is working with Researcher \"Ebrahim Norouz...</td>\n      <td>Prof. Dr. Harald Sack; Mirza Mohtashim Alam; D...</td>\n      <td>[('http://demo.fiz-karlsruhe.de/matwerk/E31877...</td>\n      <td>Thomas Pardoen has work package Institute of M...</td>\n      <td>Researchers that work in the group with Ebrah...</td>\n    </tr>\n    <tr>\n      <th>4</th>\n      <td>who is the email address of \"ParaView\"?</td>\n      <td>support@kitware.com</td>\n      <td>[('http://demo.fiz-karlsruhe.de/matwerk/E41915...</td>\n      <td>ParaView has website https://www.paraview.org/...</td>\n      <td>ParaView; Email: support@kitware.com</td>\n    </tr>\n    <tr>\n      <th>5</th>\n      <td>What are the affilliations of Volker Hofmann?</td>\n      <td>Forschungszentrum Jülich &lt;http://demo.fiz-karl...</td>\n      <td>[('http://demo.fiz-karlsruhe.de/matwerk/E14531...</td>\n      <td>Dr. Tilmann Hickel has affiliation with Max-Pl...</td>\n      <td>Answer: Forschungszentrum Jülich.</td>\n    </tr>\n    <tr>\n      <th>6</th>\n      <td>What is \"Molecular Dynamics\" Software? List th...</td>\n      <td>1. Resource: http://demo.fiz-karlsruhe.de/matw...</td>\n      <td>[('http://demo.fiz-karlsruhe.de/matwerk/E55172...</td>\n      <td>OpenBIS has  description \"The openBIS platform...</td>\n      <td>Context: (1) GROMACS provides several papers ...</td>\n    </tr>\n    <tr>\n      <th>7</th>\n      <td>What are pre- and post-processing tools for MD...</td>\n      <td>Pizza.py Toolkit; pyscal; ASE; MDTraj; freud</td>\n      <td>[('http://demo.fiz-karlsruhe.de/matwerk/E47387...</td>\n      <td>AML has  description \"Python package to automa...</td>\n      <td>AML: A Python package to create reference sets...</td>\n    </tr>\n    <tr>\n      <th>8</th>\n      <td>What are some workflow environments for comput...</td>\n      <td>Pyiron; AiiDA; SimStack</td>\n      <td>[('http://demo.fiz-karlsruhe.de/matwerk/E10313...</td>\n      <td>Atomistictools has related resource Pyiron; Py...</td>\n      <td>Pyiron, Simmate, matminer</td>\n    </tr>\n    <tr>\n      <th>9</th>\n      <td>How should I cite pyiron?</td>\n      <td>\"title = {pyiron: An integrated development en...</td>\n      <td>[('http://demo.fiz-karlsruhe.de/matwerk/E45749...</td>\n      <td>Pyiron has  description \"pyiron is an integrat...</td>\n      <td>Answer: Use \"pyiron: An integrated developmen...</td>\n    </tr>\n    <tr>\n      <th>10</th>\n      <td>Where can I find a list of interatomic potenti...</td>\n      <td>Interatomic potentials repository (NIST); Open...</td>\n      <td>[('http://demo.fiz-karlsruhe.de/matwerk/E41732...</td>\n      <td>Image based prediction of the heat conduction ...</td>\n      <td>A repository by NIST providing interatomic pot...</td>\n    </tr>\n    <tr>\n      <th>11</th>\n      <td>What are python libraries used for calculating...</td>\n      <td>Pyscal</td>\n      <td>[('http://demo.fiz-karlsruhe.de/matwerk/E41368...</td>\n      <td>Pyscal has repository https://github.com/pysca...</td>\n      <td>Answer: Pyscal</td>\n    </tr>\n    <tr>\n      <th>12</th>\n      <td>What are the electronic lab notebooks available?</td>\n      <td>Pasta ELN; eLabFTW; Karlsruhe Data Infrastruct...</td>\n      <td>[('http://demo.fiz-karlsruhe.de/matwerk/E11999...</td>\n      <td>Jupyter notebooks has type object type; Datase...</td>\n      <td>Jupyter notebooks, Atomic Simulation Environm...</td>\n    </tr>\n    <tr>\n      <th>13</th>\n      <td>What are the software for Molecular Dynamics (...</td>\n      <td>Calphy; Melting temperature computational work...</td>\n      <td>[('http://demo.fiz-karlsruhe.de/matwerk/E10241...</td>\n      <td>Crystallography Open Database (COD) has websit...</td>\n      <td>Answer: - Crystallography Open Database (COD)...</td>\n    </tr>\n    <tr>\n      <th>14</th>\n      <td>What are the ontologies in nanomaterials domain?</td>\n      <td>MaterialsMine (MM); NanoParticle Ontology for ...</td>\n      <td>[('http://demo.fiz-karlsruhe.de/matwerk/E11433...</td>\n      <td>Materials And Molecules Basic Ontology (MAMBO)...</td>\n      <td>Answer: MAMBO, MaterialsMine (MM)</td>\n    </tr>\n    <tr>\n      <th>15</th>\n      <td>What is DAMASK?</td>\n      <td>DAMASK is a unified multi-physics crystal plas...</td>\n      <td>[('http://demo.fiz-karlsruhe.de/matwerk/E44421...</td>\n      <td>Elk has type software; Elk has type research s...</td>\n      <td>A unified multi-physics crystal plasticity sim...</td>\n    </tr>\n    <tr>\n      <th>16</th>\n      <td>What are the data portals for materials scienc...</td>\n      <td>MatPortal</td>\n      <td>[('http://demo.fiz-karlsruhe.de/matwerk/E12486...</td>\n      <td>Development of coupled ontologies and workflow...</td>\n      <td>The Materials Design Ontology:MDO has a repos...</td>\n    </tr>\n    <tr>\n      <th>17</th>\n      <td>What are the instruments for APT?</td>\n      <td>No Answer</td>\n      <td>[('http://demo.fiz-karlsruhe.de/matwerk/E10241...</td>\n      <td>Crystallography Open Database (COD) has citati...</td>\n      <td>Answer: Instrument.</td>\n    </tr>\n    <tr>\n      <th>18</th>\n      <td>In which institution can I find tomography equ...</td>\n      <td>1. Procon CT-alpha\"\\n \"X-ray micro computed to...</td>\n      <td>[]</td>\n      <td>NaN</td>\n      <td>Unable to get answer</td>\n    </tr>\n    <tr>\n      <th>19</th>\n      <td>What are the educational resources for Ontology?</td>\n      <td>Knowledge Graphs (openHPI Massive Open Online ...</td>\n      <td>[('http://demo.fiz-karlsruhe.de/matwerk/E11327...</td>\n      <td>Aditive Manufacturing Ontology (AMONTOLOGY) ha...</td>\n      <td>Ontologies, software, workflows, ontologies, ...</td>\n    </tr>\n    <tr>\n      <th>20</th>\n      <td>What is the API of Materials Project?</td>\n      <td>https://api.materialsproject.org/docs</td>\n      <td>[('http://demo.fiz-karlsruhe.de/matwerk/E10270...</td>\n      <td>Materials Cloud has repository https://github....</td>\n      <td>API. That way, you can get data without a man...</td>\n    </tr>\n    <tr>\n      <th>21</th>\n      <td>Which simulation software have a python API?</td>\n      <td>EMMOntoPy</td>\n      <td>[('http://demo.fiz-karlsruhe.de/matwerk/E11252...</td>\n      <td>OPTIMADE has citation Andersen et al, OPTIMADE...</td>\n      <td>Answer: **OpenPathSampling**</td>\n    </tr>\n    <tr>\n      <th>22</th>\n      <td>What is the documentation of the \"MatDB Online\"?</td>\n      <td>https://publications.jrc.ec.europa.eu/reposito...</td>\n      <td>[('http://demo.fiz-karlsruhe.de/matwerk/E11463...</td>\n      <td>MatDB Online has documentation https://publica...</td>\n      <td>https://publications.jrc.ec.europa.eu/reposito...</td>\n    </tr>\n    <tr>\n      <th>23</th>\n      <td>What are the types of software licenses?</td>\n      <td>BSD-3-Clause license; GPL 3 License; ASL/ BSD-...</td>\n      <td>[('http://purls.helmholtz-metadaten.de/mwo/has...</td>\n      <td>has format has type nan; https://compositionsp...</td>\n      <td>Proprietary commercial software license, nan</td>\n    </tr>\n    <tr>\n      <th>24</th>\n      <td>What are the software used to produce the data...</td>\n      <td>pymatgen; AiiDA; Quantum Espresso</td>\n      <td>[('http://demo.fiz-karlsruhe.de/matwerk/E10866...</td>\n      <td>Materials Commons has description \"A site for ...</td>\n      <td>Answer: simulation software and services</td>\n    </tr>\n    <tr>\n      <th>25</th>\n      <td>What are datasets produced by the BAM organiza...</td>\n      <td>BAM reference data: results of ASTM E139 -11 c...</td>\n      <td>[('http://demo.fiz-karlsruhe.de/matwerk/E12483...</td>\n      <td>Framework for curation and distribution of ref...</td>\n      <td>Metadata about materials-science data contain...</td>\n    </tr>\n    <tr>\n      <th>26</th>\n      <td>What are some available datasets of mechanical...</td>\n      <td>Full dataset of several mechanical tests on an...</td>\n      <td>[('http://demo.fiz-karlsruhe.de/matwerk/E12466...</td>\n      <td>Elastic Constant Demo has related resource Ela...</td>\n      <td>a. Elastic Constant Demo Data - 'Data containi...</td>\n    </tr>\n    <tr>\n      <th>27</th>\n      <td>What are datasets related to \"Transmission ele...</td>\n      <td>Radii of S-phase Al2CuMg in Al-alloy EN AW-261...</td>\n      <td>[('http://demo.fiz-karlsruhe.de/matwerk/E52273...</td>\n      <td>pySTEM has  description \"Automatic segmentatio...</td>\n      <td>DQ: What are the datasets related to \"Transmis...</td>\n    </tr>\n    <tr>\n      <th>28</th>\n      <td>What is the license of the dataset \"Elastic Co...</td>\n      <td>BSD 3-Clause License</td>\n      <td>[('http://demo.fiz-karlsruhe.de/matwerk/E11600...</td>\n      <td>NeXus Data Format has license LGPL-2.1 license...</td>\n      <td>BSD 3-Clause License.</td>\n    </tr>\n    <tr>\n      <th>29</th>\n      <td>What is the repository for \"BAM reference data\"?</td>\n      <td>http://demo.fiz-karlsruhe.de/matwerk/E291704; ...</td>\n      <td>[('http://demo.fiz-karlsruhe.de/matwerk/E11737...</td>\n      <td>BAM reference data: results of ASTM E139 -11 c...</td>\n      <td>https://doi.org/10.5281/zenodo.5106606</td>\n    </tr>\n    <tr>\n      <th>30</th>\n      <td>What are the different data formats in the \"BA...</td>\n      <td>csv; pdf</td>\n      <td>[('http://demo.fiz-karlsruhe.de/matwerk/E11539...</td>\n      <td>Electronic Structure Common Data Format (ESCDF...</td>\n      <td>CSV and PDF.</td>\n    </tr>\n    <tr>\n      <th>31</th>\n      <td>What is the software version of \"pacemaker\"?</td>\n      <td>0.2.7</td>\n      <td>[('http://demo.fiz-karlsruhe.de/matwerk/E51155...</td>\n      <td>pacemaker has Version \"0.2.7\"; pacemaker has  ...</td>\n      <td>\"0.2.7\"</td>\n    </tr>\n    <tr>\n      <th>32</th>\n      <td>What is the field of research \"BAM reference d...</td>\n      <td>high temperature mechanical behavior</td>\n      <td>[(':n24fcd3fc8d9441f293ea115e3ab0e59bb21', 'rd...</td>\n      <td>:n24fcd3fc8d9441f293ea115e3ab0e59bb21 has firs...</td>\n      <td>High temperature mechanical behavior.\"</td>\n    </tr>\n    <tr>\n      <th>33</th>\n      <td>What is the description of the \"BAM reference ...</td>\n      <td>The creep behavior of a certified reference ma...</td>\n      <td>[('http://demo.fiz-karlsruhe.de/matwerk/E11737...</td>\n      <td>BAM reference data: results of ASTM E139 -11 c...</td>\n      <td>Description of the \"BAM reference data\" is: T...</td>\n    </tr>\n    <tr>\n      <th>34</th>\n      <td>What are the datasets produced in 2022?</td>\n      <td>Brinell-Hardness (HBW 2.5/62.5) of Al-alloy EN...</td>\n      <td>[]</td>\n      <td>NaN</td>\n      <td>Unable to get answer</td>\n    </tr>\n    <tr>\n      <th>35</th>\n      <td>Who is the creators of the \"BAM reference data\"?</td>\n      <td>Sina Schriever (http://demo.fiz-karlsruhe.de/m...</td>\n      <td>[('http://demo.fiz-karlsruhe.de/matwerk/E11539...</td>\n      <td>Electronic Structure Common Data Format (ESCDF...</td>\n      <td>Answer: Sina Schriever, Prof. Birgit Skrotzki</td>\n    </tr>\n    <tr>\n      <th>36</th>\n      <td>What are the datasets published by \"BAM\"?</td>\n      <td>Datasets for the analysis of dislocations at g...</td>\n      <td>[('http://demo.fiz-karlsruhe.de/matwerk/E12483...</td>\n      <td>Framework for curation and distribution of ref...</td>\n      <td>The NOMAD Metainfo stores descriptive and str...</td>\n    </tr>\n    <tr>\n      <th>37</th>\n      <td>Average</td>\n      <td>NaN</td>\n      <td>NaN</td>\n      <td>NaN</td>\n      <td>Unable to get answer</td>\n    </tr>\n  </tbody>\n</table>\n</div>"
     },
     "execution_count": 42,
     "metadata": {},
     "output_type": "execute_result"
    }
   ],
   "source": [
    "df['answer_text'] = arr_answers\n",
    "df"
   ],
   "metadata": {
    "collapsed": false,
    "ExecuteTime": {
     "end_time": "2024-03-01T23:03:50.552672100Z",
     "start_time": "2024-03-01T23:03:50.524638800Z"
    }
   },
   "id": "5b732021f619c0a"
  },
  {
   "cell_type": "markdown",
   "source": [
    "## Dataframe saved as a XLSX file"
   ],
   "metadata": {
    "collapsed": false
   },
   "id": "ead85da3a718d4c9"
  },
  {
   "cell_type": "code",
   "execution_count": 48,
   "outputs": [
    {
     "name": "stdout",
     "output_type": "stream",
     "text": [
      "successfully saved C:\\Users\\Li\\Desktop\\results.xlsx\n"
     ]
    }
   ],
   "source": [
    "save_path = r\"C:\\Users\\Li\\Desktop\\results.xlsx\"\n",
    "\n",
    "df.to_excel(save_path, index=False)\n",
    "\n",
    "print(\"successfully saved\", save_path)"
   ],
   "metadata": {
    "collapsed": false,
    "ExecuteTime": {
     "end_time": "2024-03-01T23:10:43.014140900Z",
     "start_time": "2024-03-01T23:10:42.981112Z"
    }
   },
   "id": "cddb34da97774d1f"
  },
  {
   "cell_type": "code",
   "execution_count": null,
   "outputs": [],
   "source": [],
   "metadata": {
    "collapsed": false
   },
   "id": "6def4fc85656e113"
  }
 ],
 "metadata": {
  "kernelspec": {
   "display_name": "Python 3 (ipykernel)",
   "language": "python",
   "name": "python3"
  },
  "language_info": {
   "codemirror_mode": {
    "name": "ipython",
    "version": 3
   },
   "file_extension": ".py",
   "mimetype": "text/x-python",
   "name": "python",
   "nbconvert_exporter": "python",
   "pygments_lexer": "ipython3",
   "version": "3.10.2"
  }
 },
 "nbformat": 4,
 "nbformat_minor": 5
}
